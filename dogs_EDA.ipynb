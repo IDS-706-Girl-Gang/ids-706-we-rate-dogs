{
 "cells": [
  {
   "cell_type": "code",
   "execution_count": 25,
   "id": "29aa88e2",
   "metadata": {},
   "outputs": [],
   "source": [
    "from nltk.sentiment import SentimentIntensityAnalyzer\n",
    "import pandas as pd\n",
    "from wordcloud import WordCloud, STOPWORDS, ImageColorGenerator\n",
    "import matplotlib.pyplot as plt\n",
    "import re\n",
    "from nltk.corpus import stopwords\n",
    "from nltk.tokenize import word_tokenize\n",
    "import numpy as np\n",
    "import plotly.express as px\n"
   ]
  },
  {
   "cell_type": "code",
   "execution_count": 11,
   "id": "297da5cc",
   "metadata": {},
   "outputs": [],
   "source": [
    "sia = SentimentIntensityAnalyzer()"
   ]
  },
  {
   "cell_type": "code",
   "execution_count": 2,
   "id": "c4f8b0ce",
   "metadata": {},
   "outputs": [],
   "source": [
    "# read in data \n",
    "twitter_archive = pd.read_csv('twitter-archive-enhanced.csv')"
   ]
  },
  {
   "cell_type": "code",
   "execution_count": 6,
   "id": "47a7328e",
   "metadata": {},
   "outputs": [],
   "source": [
    "# create conditions to seperate them into buckets \n",
    "conditions = [\n",
    "    (twitter_archive ['rating_numerator'] <= 4),\n",
    "    (twitter_archive ['rating_numerator'] > 4) & (twitter_archive ['rating_numerator'] <= 6 ),\n",
    "    (twitter_archive ['rating_numerator'] > 6) & (twitter_archive ['rating_numerator'] <= 10),\n",
    "    (twitter_archive ['rating_numerator'] > 10)\n",
    "    ]\n",
    "\n",
    "# create a list of the values we want to assign for each condition\n",
    "values = ['not_so_cute', 'okay', 'cute', 'cuteness_overflow']\n"
   ]
  },
  {
   "cell_type": "code",
   "execution_count": 9,
   "id": "5ae60ea3",
   "metadata": {},
   "outputs": [
    {
     "data": {
      "text/html": [
       "<div>\n",
       "<style scoped>\n",
       "    .dataframe tbody tr th:only-of-type {\n",
       "        vertical-align: middle;\n",
       "    }\n",
       "\n",
       "    .dataframe tbody tr th {\n",
       "        vertical-align: top;\n",
       "    }\n",
       "\n",
       "    .dataframe thead th {\n",
       "        text-align: right;\n",
       "    }\n",
       "</style>\n",
       "<table border=\"1\" class=\"dataframe\">\n",
       "  <thead>\n",
       "    <tr style=\"text-align: right;\">\n",
       "      <th></th>\n",
       "      <th>tweet_id</th>\n",
       "      <th>in_reply_to_status_id</th>\n",
       "      <th>in_reply_to_user_id</th>\n",
       "      <th>timestamp</th>\n",
       "      <th>source</th>\n",
       "      <th>text</th>\n",
       "      <th>retweeted_status_id</th>\n",
       "      <th>retweeted_status_user_id</th>\n",
       "      <th>retweeted_status_timestamp</th>\n",
       "      <th>expanded_urls</th>\n",
       "      <th>rating_numerator</th>\n",
       "      <th>rating_denominator</th>\n",
       "      <th>name</th>\n",
       "      <th>doggo</th>\n",
       "      <th>floofer</th>\n",
       "      <th>pupper</th>\n",
       "      <th>puppo</th>\n",
       "      <th>rating_bucket</th>\n",
       "    </tr>\n",
       "  </thead>\n",
       "  <tbody>\n",
       "    <tr>\n",
       "      <th>0</th>\n",
       "      <td>892420643555336193</td>\n",
       "      <td>NaN</td>\n",
       "      <td>NaN</td>\n",
       "      <td>2017-08-01 16:23:56 +0000</td>\n",
       "      <td>&lt;a href=\"http://twitter.com/download/iphone\" r...</td>\n",
       "      <td>This is Phineas. He's a mystical boy. Only eve...</td>\n",
       "      <td>NaN</td>\n",
       "      <td>NaN</td>\n",
       "      <td>NaN</td>\n",
       "      <td>https://twitter.com/dog_rates/status/892420643...</td>\n",
       "      <td>13</td>\n",
       "      <td>10</td>\n",
       "      <td>Phineas</td>\n",
       "      <td>None</td>\n",
       "      <td>None</td>\n",
       "      <td>None</td>\n",
       "      <td>None</td>\n",
       "      <td>cuteness_overflow</td>\n",
       "    </tr>\n",
       "    <tr>\n",
       "      <th>1</th>\n",
       "      <td>892177421306343426</td>\n",
       "      <td>NaN</td>\n",
       "      <td>NaN</td>\n",
       "      <td>2017-08-01 00:17:27 +0000</td>\n",
       "      <td>&lt;a href=\"http://twitter.com/download/iphone\" r...</td>\n",
       "      <td>This is Tilly. She's just checking pup on you....</td>\n",
       "      <td>NaN</td>\n",
       "      <td>NaN</td>\n",
       "      <td>NaN</td>\n",
       "      <td>https://twitter.com/dog_rates/status/892177421...</td>\n",
       "      <td>13</td>\n",
       "      <td>10</td>\n",
       "      <td>Tilly</td>\n",
       "      <td>None</td>\n",
       "      <td>None</td>\n",
       "      <td>None</td>\n",
       "      <td>None</td>\n",
       "      <td>cuteness_overflow</td>\n",
       "    </tr>\n",
       "    <tr>\n",
       "      <th>2</th>\n",
       "      <td>891815181378084864</td>\n",
       "      <td>NaN</td>\n",
       "      <td>NaN</td>\n",
       "      <td>2017-07-31 00:18:03 +0000</td>\n",
       "      <td>&lt;a href=\"http://twitter.com/download/iphone\" r...</td>\n",
       "      <td>This is Archie. He is a rare Norwegian Pouncin...</td>\n",
       "      <td>NaN</td>\n",
       "      <td>NaN</td>\n",
       "      <td>NaN</td>\n",
       "      <td>https://twitter.com/dog_rates/status/891815181...</td>\n",
       "      <td>12</td>\n",
       "      <td>10</td>\n",
       "      <td>Archie</td>\n",
       "      <td>None</td>\n",
       "      <td>None</td>\n",
       "      <td>None</td>\n",
       "      <td>None</td>\n",
       "      <td>cuteness_overflow</td>\n",
       "    </tr>\n",
       "    <tr>\n",
       "      <th>3</th>\n",
       "      <td>891689557279858688</td>\n",
       "      <td>NaN</td>\n",
       "      <td>NaN</td>\n",
       "      <td>2017-07-30 15:58:51 +0000</td>\n",
       "      <td>&lt;a href=\"http://twitter.com/download/iphone\" r...</td>\n",
       "      <td>This is Darla. She commenced a snooze mid meal...</td>\n",
       "      <td>NaN</td>\n",
       "      <td>NaN</td>\n",
       "      <td>NaN</td>\n",
       "      <td>https://twitter.com/dog_rates/status/891689557...</td>\n",
       "      <td>13</td>\n",
       "      <td>10</td>\n",
       "      <td>Darla</td>\n",
       "      <td>None</td>\n",
       "      <td>None</td>\n",
       "      <td>None</td>\n",
       "      <td>None</td>\n",
       "      <td>cuteness_overflow</td>\n",
       "    </tr>\n",
       "    <tr>\n",
       "      <th>4</th>\n",
       "      <td>891327558926688256</td>\n",
       "      <td>NaN</td>\n",
       "      <td>NaN</td>\n",
       "      <td>2017-07-29 16:00:24 +0000</td>\n",
       "      <td>&lt;a href=\"http://twitter.com/download/iphone\" r...</td>\n",
       "      <td>This is Franklin. He would like you to stop ca...</td>\n",
       "      <td>NaN</td>\n",
       "      <td>NaN</td>\n",
       "      <td>NaN</td>\n",
       "      <td>https://twitter.com/dog_rates/status/891327558...</td>\n",
       "      <td>12</td>\n",
       "      <td>10</td>\n",
       "      <td>Franklin</td>\n",
       "      <td>None</td>\n",
       "      <td>None</td>\n",
       "      <td>None</td>\n",
       "      <td>None</td>\n",
       "      <td>cuteness_overflow</td>\n",
       "    </tr>\n",
       "  </tbody>\n",
       "</table>\n",
       "</div>"
      ],
      "text/plain": [
       "             tweet_id  in_reply_to_status_id  in_reply_to_user_id  \\\n",
       "0  892420643555336193                    NaN                  NaN   \n",
       "1  892177421306343426                    NaN                  NaN   \n",
       "2  891815181378084864                    NaN                  NaN   \n",
       "3  891689557279858688                    NaN                  NaN   \n",
       "4  891327558926688256                    NaN                  NaN   \n",
       "\n",
       "                   timestamp  \\\n",
       "0  2017-08-01 16:23:56 +0000   \n",
       "1  2017-08-01 00:17:27 +0000   \n",
       "2  2017-07-31 00:18:03 +0000   \n",
       "3  2017-07-30 15:58:51 +0000   \n",
       "4  2017-07-29 16:00:24 +0000   \n",
       "\n",
       "                                              source  \\\n",
       "0  <a href=\"http://twitter.com/download/iphone\" r...   \n",
       "1  <a href=\"http://twitter.com/download/iphone\" r...   \n",
       "2  <a href=\"http://twitter.com/download/iphone\" r...   \n",
       "3  <a href=\"http://twitter.com/download/iphone\" r...   \n",
       "4  <a href=\"http://twitter.com/download/iphone\" r...   \n",
       "\n",
       "                                                text  retweeted_status_id  \\\n",
       "0  This is Phineas. He's a mystical boy. Only eve...                  NaN   \n",
       "1  This is Tilly. She's just checking pup on you....                  NaN   \n",
       "2  This is Archie. He is a rare Norwegian Pouncin...                  NaN   \n",
       "3  This is Darla. She commenced a snooze mid meal...                  NaN   \n",
       "4  This is Franklin. He would like you to stop ca...                  NaN   \n",
       "\n",
       "   retweeted_status_user_id retweeted_status_timestamp  \\\n",
       "0                       NaN                        NaN   \n",
       "1                       NaN                        NaN   \n",
       "2                       NaN                        NaN   \n",
       "3                       NaN                        NaN   \n",
       "4                       NaN                        NaN   \n",
       "\n",
       "                                       expanded_urls  rating_numerator  \\\n",
       "0  https://twitter.com/dog_rates/status/892420643...                13   \n",
       "1  https://twitter.com/dog_rates/status/892177421...                13   \n",
       "2  https://twitter.com/dog_rates/status/891815181...                12   \n",
       "3  https://twitter.com/dog_rates/status/891689557...                13   \n",
       "4  https://twitter.com/dog_rates/status/891327558...                12   \n",
       "\n",
       "   rating_denominator      name doggo floofer pupper puppo      rating_bucket  \n",
       "0                  10   Phineas  None    None   None  None  cuteness_overflow  \n",
       "1                  10     Tilly  None    None   None  None  cuteness_overflow  \n",
       "2                  10    Archie  None    None   None  None  cuteness_overflow  \n",
       "3                  10     Darla  None    None   None  None  cuteness_overflow  \n",
       "4                  10  Franklin  None    None   None  None  cuteness_overflow  "
      ]
     },
     "execution_count": 9,
     "metadata": {},
     "output_type": "execute_result"
    }
   ],
   "source": [
    "# create a new column with the condition \n",
    "twitter_archive['rating_bucket'] = np.select(conditions, values)\n",
    "twitter_archive.head()"
   ]
  },
  {
   "cell_type": "code",
   "execution_count": 30,
   "id": "6e8df320",
   "metadata": {},
   "outputs": [
    {
     "data": {
      "text/plain": [
       "cuteness_overflow    1455\n",
       "cute                  776\n",
       "okay                   69\n",
       "not_so_cute            56\n",
       "Name: rating_bucket, dtype: int64"
      ]
     },
     "execution_count": 30,
     "metadata": {},
     "output_type": "execute_result"
    }
   ],
   "source": [
    "# check the bucket sizes\n",
    "twitter_archive.rating_bucket.value_counts()"
   ]
  },
  {
   "cell_type": "code",
   "execution_count": 54,
   "id": "afc75aa0",
   "metadata": {},
   "outputs": [
    {
     "data": {
      "text/plain": [
       "{'not_so_cute': [], 'okay': [], 'cute': [], 'cuteness_overflow': []}"
      ]
     },
     "execution_count": 54,
     "metadata": {},
     "output_type": "execute_result"
    }
   ],
   "source": [
    "# twitter_archive.loc[twitter_archive['rating_bucket'] =='cutene', 'text']\n",
    "bucket_data = dict.fromkeys(['not_so_cute', 'okay', 'cute', 'cuteness_overflow'], list())\n",
    "bucket_data"
   ]
  },
  {
   "cell_type": "code",
   "execution_count": 55,
   "id": "404f6648",
   "metadata": {},
   "outputs": [],
   "source": [
    "### adding corresponding polarity score \n",
    "for i in range(twitter_archive.shape[0]):\n",
    "    if twitter_archive['rating_bucket'][i] == 'not_so_cute':\n",
    "        bucket_data['not_so_cute'] = bucket_data['not_so_cute']+[sia.polarity_scores(twitter_archive['text'][i])]\n",
    "    elif twitter_archive['rating_bucket'][i] == 'okay':\n",
    "        bucket_data['okay']= bucket_data['okay']+[sia.polarity_scores(twitter_archive['text'][i])]\n",
    "    elif twitter_archive['rating_bucket'][i] == 'cute':\n",
    "        bucket_data['cute']=bucket_data['cute']+[sia.polarity_scores(twitter_archive['text'][i])]\n",
    "    else:\n",
    "        bucket_data['cuteness_overflow']=bucket_data['cuteness_overflow']+[sia.polarity_scores(twitter_archive['text'][i])]\n",
    "    "
   ]
  },
  {
   "cell_type": "code",
   "execution_count": 65,
   "id": "aad9f2dc",
   "metadata": {},
   "outputs": [],
   "source": [
    "# putting them into dataframe\n",
    "df1 = pd.DataFrame(bucket_data['not_so_cute'])\n",
    "df1['rating_bucket'] = 'not_so_cute'\n",
    "df2 = pd.DataFrame(bucket_data['okay'])\n",
    "df3 = pd.DataFrame(bucket_data['cute'])\n",
    "df4 = pd.DataFrame(bucket_data['cuteness_overflow'])\n",
    "df2['rating_bucket'] = 'okay'\n",
    "df3['rating_bucket'] = 'cute'\n",
    "df4['rating_bucket'] = 'cuteness_overflow'\n",
    "df = df1.append(df2)\n",
    "df = df.append(df3)\n",
    "df = df.append(df4)"
   ]
  },
  {
   "cell_type": "code",
   "execution_count": 85,
   "id": "be361bad",
   "metadata": {},
   "outputs": [],
   "source": [
    "bucket_data_copy = bucket_data"
   ]
  },
  {
   "cell_type": "code",
   "execution_count": 99,
   "id": "ad5e8e55",
   "metadata": {},
   "outputs": [
    {
     "data": {
      "text/plain": [
       "[{'neg': 0.0, 'neu': 1.0, 'pos': 0.0},\n",
       " {'neg': 0.0, 'neu': 1.0, 'pos': 0.0},\n",
       " {'neg': 0.0, 'neu': 0.791, 'pos': 0.209},\n",
       " {'neg': 0.179, 'neu': 0.821, 'pos': 0.0},\n",
       " {'neg': 0.157, 'neu': 0.843, 'pos': 0.0},\n",
       " {'neg': 0.153, 'neu': 0.847, 'pos': 0.0},\n",
       " {'neg': 0.0, 'neu': 0.805, 'pos': 0.195},\n",
       " {'neg': 0.403, 'neu': 0.597, 'pos': 0.0},\n",
       " {'neg': 0.0, 'neu': 1.0, 'pos': 0.0},\n",
       " {'neg': 0.091, 'neu': 0.909, 'pos': 0.0},\n",
       " {'neg': 0.0, 'neu': 0.697, 'pos': 0.303},\n",
       " {'neg': 0.127, 'neu': 0.696, 'pos': 0.177},\n",
       " {'neg': 0.0, 'neu': 0.604, 'pos': 0.396},\n",
       " {'neg': 0.111, 'neu': 0.889, 'pos': 0.0},\n",
       " {'neg': 0.0, 'neu': 1.0, 'pos': 0.0},\n",
       " {'neg': 0.0, 'neu': 0.817, 'pos': 0.183},\n",
       " {'neg': 0.0, 'neu': 0.926, 'pos': 0.074},\n",
       " {'neg': 0.142, 'neu': 0.758, 'pos': 0.1},\n",
       " {'neg': 0.0, 'neu': 0.673, 'pos': 0.327},\n",
       " {'neg': 0.093, 'neu': 0.61, 'pos': 0.297},\n",
       " {'neg': 0.0, 'neu': 1.0, 'pos': 0.0},\n",
       " {'neg': 0.0, 'neu': 0.905, 'pos': 0.095},\n",
       " {'neg': 0.0, 'neu': 1.0, 'pos': 0.0},\n",
       " {'neg': 0.0, 'neu': 0.905, 'pos': 0.095},\n",
       " {'neg': 0.171, 'neu': 0.829, 'pos': 0.0},\n",
       " {'neg': 0.0, 'neu': 1.0, 'pos': 0.0},\n",
       " {'neg': 0.058, 'neu': 0.64, 'pos': 0.301},\n",
       " {'neg': 0.0, 'neu': 0.792, 'pos': 0.208},\n",
       " {'neg': 0.0, 'neu': 0.805, 'pos': 0.195},\n",
       " {'neg': 0.123, 'neu': 0.877, 'pos': 0.0},\n",
       " {'neg': 0.0, 'neu': 0.865, 'pos': 0.135},\n",
       " {'neg': 0.0, 'neu': 1.0, 'pos': 0.0},\n",
       " {'neg': 0.102, 'neu': 0.575, 'pos': 0.323},\n",
       " {'neg': 0.0, 'neu': 0.816, 'pos': 0.184},\n",
       " {'neg': 0.139, 'neu': 0.861, 'pos': 0.0},\n",
       " {'neg': 0.0, 'neu': 0.742, 'pos': 0.258},\n",
       " {'neg': 0.086, 'neu': 0.736, 'pos': 0.178},\n",
       " {'neg': 0.0, 'neu': 1.0, 'pos': 0.0},\n",
       " {'neg': 0.0, 'neu': 0.806, 'pos': 0.194},\n",
       " {'neg': 0.124, 'neu': 0.876, 'pos': 0.0},\n",
       " {'neg': 0.127, 'neu': 0.873, 'pos': 0.0},\n",
       " {'neg': 0.0, 'neu': 1.0, 'pos': 0.0},\n",
       " {'neg': 0.0, 'neu': 0.913, 'pos': 0.087},\n",
       " {'neg': 0.195, 'neu': 0.805, 'pos': 0.0},\n",
       " {'neg': 0.094, 'neu': 0.773, 'pos': 0.133},\n",
       " {'neg': 0.0, 'neu': 0.861, 'pos': 0.139},\n",
       " {'neg': 0.104, 'neu': 0.896, 'pos': 0.0},\n",
       " {'neg': 0.0, 'neu': 0.815, 'pos': 0.185},\n",
       " {'neg': 0.077, 'neu': 0.723, 'pos': 0.2},\n",
       " {'neg': 0.1, 'neu': 0.795, 'pos': 0.105},\n",
       " {'neg': 0.0, 'neu': 0.895, 'pos': 0.105},\n",
       " {'neg': 0.137, 'neu': 0.863, 'pos': 0.0},\n",
       " {'neg': 0.0, 'neu': 0.824, 'pos': 0.176},\n",
       " {'neg': 0.0, 'neu': 0.828, 'pos': 0.172},\n",
       " {'neg': 0.0, 'neu': 1.0, 'pos': 0.0},\n",
       " {'neg': 0.087, 'neu': 0.913, 'pos': 0.0},\n",
       " {'neg': 0.137, 'neu': 0.863, 'pos': 0.0},\n",
       " {'neg': 0.0, 'neu': 1.0, 'pos': 0.0},\n",
       " {'neg': 0.111, 'neu': 0.802, 'pos': 0.088},\n",
       " {'neg': 0.146, 'neu': 0.854, 'pos': 0.0},\n",
       " {'neg': 0.0, 'neu': 0.94, 'pos': 0.06},\n",
       " {'neg': 0.115, 'neu': 0.885, 'pos': 0.0},\n",
       " {'neg': 0.0, 'neu': 1.0, 'pos': 0.0},\n",
       " {'neg': 0.275, 'neu': 0.623, 'pos': 0.102},\n",
       " {'neg': 0.256, 'neu': 0.744, 'pos': 0.0},\n",
       " {'neg': 0.252, 'neu': 0.748, 'pos': 0.0},\n",
       " {'neg': 0.0, 'neu': 1.0, 'pos': 0.0},\n",
       " {'neg': 0.0, 'neu': 1.0, 'pos': 0.0},\n",
       " {'neg': 0.0, 'neu': 0.683, 'pos': 0.317},\n",
       " {'neg': 0.156, 'neu': 0.844, 'pos': 0.0},\n",
       " {'neg': 0.202, 'neu': 0.798, 'pos': 0.0},\n",
       " {'neg': 0.12, 'neu': 0.785, 'pos': 0.095},\n",
       " {'neg': 0.0, 'neu': 0.78, 'pos': 0.22},\n",
       " {'neg': 0.094, 'neu': 0.831, 'pos': 0.075},\n",
       " {'neg': 0.295, 'neu': 0.638, 'pos': 0.067},\n",
       " {'neg': 0.212, 'neu': 0.788, 'pos': 0.0},\n",
       " {'neg': 0.0, 'neu': 0.823, 'pos': 0.177},\n",
       " {'neg': 0.0, 'neu': 0.63, 'pos': 0.37},\n",
       " {'neg': 0.243, 'neu': 0.663, 'pos': 0.094},\n",
       " {'neg': 0.0, 'neu': 1.0, 'pos': 0.0},\n",
       " {'neg': 0.16, 'neu': 0.84, 'pos': 0.0},\n",
       " {'neg': 0.0, 'neu': 0.934, 'pos': 0.066},\n",
       " {'neg': 0.274, 'neu': 0.726, 'pos': 0.0},\n",
       " {'neg': 0.0, 'neu': 1.0, 'pos': 0.0},\n",
       " {'neg': 0.275, 'neu': 0.586, 'pos': 0.139},\n",
       " {'neg': 0.0, 'neu': 0.724, 'pos': 0.276},\n",
       " {'neg': 0.0, 'neu': 1.0, 'pos': 0.0},\n",
       " {'neg': 0.211, 'neu': 0.789, 'pos': 0.0},\n",
       " {'neg': 0.199, 'neu': 0.567, 'pos': 0.234},\n",
       " {'neg': 0.0, 'neu': 1.0, 'pos': 0.0},\n",
       " {'neg': 0.182, 'neu': 0.818, 'pos': 0.0},\n",
       " {'neg': 0.0, 'neu': 0.89, 'pos': 0.11},\n",
       " {'neg': 0.0, 'neu': 1.0, 'pos': 0.0},\n",
       " {'neg': 0.179, 'neu': 0.616, 'pos': 0.204},\n",
       " {'neg': 0.248, 'neu': 0.752, 'pos': 0.0},\n",
       " {'neg': 0.0, 'neu': 0.844, 'pos': 0.156},\n",
       " {'neg': 0.0, 'neu': 0.812, 'pos': 0.188},\n",
       " {'neg': 0.0, 'neu': 0.608, 'pos': 0.392},\n",
       " {'neg': 0.133, 'neu': 0.867, 'pos': 0.0},\n",
       " {'neg': 0.0, 'neu': 1.0, 'pos': 0.0},\n",
       " {'neg': 0.207, 'neu': 0.793, 'pos': 0.0},\n",
       " {'neg': 0.107, 'neu': 0.774, 'pos': 0.119},\n",
       " {'neg': 0.0, 'neu': 0.783, 'pos': 0.217},\n",
       " {'neg': 0.0, 'neu': 1.0, 'pos': 0.0},\n",
       " {'neg': 0.165, 'neu': 0.835, 'pos': 0.0},\n",
       " {'neg': 0.186, 'neu': 0.814, 'pos': 0.0},\n",
       " {'neg': 0.0, 'neu': 0.902, 'pos': 0.098},\n",
       " {'neg': 0.093, 'neu': 0.833, 'pos': 0.074},\n",
       " {'neg': 0.136, 'neu': 0.751, 'pos': 0.113},\n",
       " {'neg': 0.203, 'neu': 0.651, 'pos': 0.146},\n",
       " {'neg': 0.0, 'neu': 0.789, 'pos': 0.211},\n",
       " {'neg': 0.0, 'neu': 0.876, 'pos': 0.124},\n",
       " {'neg': 0.0, 'neu': 1.0, 'pos': 0.0},\n",
       " {'neg': 0.0, 'neu': 0.694, 'pos': 0.306},\n",
       " {'neg': 0.0, 'neu': 1.0, 'pos': 0.0},\n",
       " {'neg': 0.202, 'neu': 0.798, 'pos': 0.0},\n",
       " {'neg': 0.0, 'neu': 1.0, 'pos': 0.0},\n",
       " {'neg': 0.219, 'neu': 0.685, 'pos': 0.095},\n",
       " {'neg': 0.276, 'neu': 0.724, 'pos': 0.0},\n",
       " {'neg': 0.0, 'neu': 0.936, 'pos': 0.064},\n",
       " {'neg': 0.29, 'neu': 0.574, 'pos': 0.136},\n",
       " {'neg': 0.111, 'neu': 0.889, 'pos': 0.0},\n",
       " {'neg': 0.064, 'neu': 0.694, 'pos': 0.243},\n",
       " {'neg': 0.109, 'neu': 0.773, 'pos': 0.118},\n",
       " {'neg': 0.0, 'neu': 0.657, 'pos': 0.343},\n",
       " {'neg': 0.0, 'neu': 1.0, 'pos': 0.0},\n",
       " {'neg': 0.09, 'neu': 0.65, 'pos': 0.26},\n",
       " {'neg': 0.172, 'neu': 0.746, 'pos': 0.081},\n",
       " {'neg': 0.115, 'neu': 0.766, 'pos': 0.119},\n",
       " {'neg': 0.187, 'neu': 0.813, 'pos': 0.0},\n",
       " {'neg': 0.0, 'neu': 0.842, 'pos': 0.158},\n",
       " {'neg': 0.289, 'neu': 0.629, 'pos': 0.082},\n",
       " {'neg': 0.0, 'neu': 1.0, 'pos': 0.0},\n",
       " {'neg': 0.0, 'neu': 0.78, 'pos': 0.22},\n",
       " {'neg': 0.112, 'neu': 0.888, 'pos': 0.0},\n",
       " {'neg': 0.0, 'neu': 0.833, 'pos': 0.167},\n",
       " {'neg': 0.0, 'neu': 0.905, 'pos': 0.095},\n",
       " {'neg': 0.0, 'neu': 1.0, 'pos': 0.0},\n",
       " {'neg': 0.0, 'neu': 0.828, 'pos': 0.172},\n",
       " {'neg': 0.151, 'neu': 0.849, 'pos': 0.0},\n",
       " {'neg': 0.0, 'neu': 0.747, 'pos': 0.253},\n",
       " {'neg': 0.0, 'neu': 1.0, 'pos': 0.0},\n",
       " {'neg': 0.0, 'neu': 0.758, 'pos': 0.242},\n",
       " {'neg': 0.0, 'neu': 1.0, 'pos': 0.0},\n",
       " {'neg': 0.0, 'neu': 1.0, 'pos': 0.0},\n",
       " {'neg': 0.086, 'neu': 0.667, 'pos': 0.247},\n",
       " {'neg': 0.189, 'neu': 0.61, 'pos': 0.201},\n",
       " {'neg': 0.22, 'neu': 0.578, 'pos': 0.202},\n",
       " {'neg': 0.0, 'neu': 1.0, 'pos': 0.0},\n",
       " {'neg': 0.0, 'neu': 0.764, 'pos': 0.236},\n",
       " {'neg': 0.282, 'neu': 0.544, 'pos': 0.174},\n",
       " {'neg': 0.0, 'neu': 1.0, 'pos': 0.0},\n",
       " {'neg': 0.138, 'neu': 0.862, 'pos': 0.0},\n",
       " {'neg': 0.112, 'neu': 0.888, 'pos': 0.0},\n",
       " {'neg': 0.128, 'neu': 0.872, 'pos': 0.0},\n",
       " {'neg': 0.0, 'neu': 0.833, 'pos': 0.167},\n",
       " {'neg': 0.0, 'neu': 0.846, 'pos': 0.154},\n",
       " {'neg': 0.0, 'neu': 1.0, 'pos': 0.0},\n",
       " {'neg': 0.0, 'neu': 1.0, 'pos': 0.0},\n",
       " {'neg': 0.076, 'neu': 0.851, 'pos': 0.073},\n",
       " {'neg': 0.1, 'neu': 0.727, 'pos': 0.173},\n",
       " {'neg': 0.0, 'neu': 0.845, 'pos': 0.155},\n",
       " {'neg': 0.0, 'neu': 0.37, 'pos': 0.63},\n",
       " {'neg': 0.0, 'neu': 1.0, 'pos': 0.0},\n",
       " {'neg': 0.171, 'neu': 0.829, 'pos': 0.0},\n",
       " {'neg': 0.0, 'neu': 0.897, 'pos': 0.103},\n",
       " {'neg': 0.14, 'neu': 0.86, 'pos': 0.0},\n",
       " {'neg': 0.059, 'neu': 0.837, 'pos': 0.103},\n",
       " {'neg': 0.0, 'neu': 0.874, 'pos': 0.126},\n",
       " {'neg': 0.331, 'neu': 0.669, 'pos': 0.0},\n",
       " {'neg': 0.122, 'neu': 0.647, 'pos': 0.23},\n",
       " {'neg': 0.0, 'neu': 0.82, 'pos': 0.18},\n",
       " {'neg': 0.135, 'neu': 0.865, 'pos': 0.0},\n",
       " {'neg': 0.143, 'neu': 0.684, 'pos': 0.173},\n",
       " {'neg': 0.247, 'neu': 0.753, 'pos': 0.0},\n",
       " {'neg': 0.112, 'neu': 0.674, 'pos': 0.213},\n",
       " {'neg': 0.0, 'neu': 0.787, 'pos': 0.213},\n",
       " {'neg': 0.0, 'neu': 0.714, 'pos': 0.286},\n",
       " {'neg': 0.14, 'neu': 0.86, 'pos': 0.0},\n",
       " {'neg': 0.245, 'neu': 0.647, 'pos': 0.108},\n",
       " {'neg': 0.153, 'neu': 0.676, 'pos': 0.171},\n",
       " {'neg': 0.138, 'neu': 0.862, 'pos': 0.0},\n",
       " {'neg': 0.0, 'neu': 1.0, 'pos': 0.0},\n",
       " {'neg': 0.208, 'neu': 0.64, 'pos': 0.152},\n",
       " {'neg': 0.0, 'neu': 0.896, 'pos': 0.104},\n",
       " {'neg': 0.0, 'neu': 1.0, 'pos': 0.0},\n",
       " {'neg': 0.0, 'neu': 0.87, 'pos': 0.13},\n",
       " {'neg': 0.242, 'neu': 0.758, 'pos': 0.0},\n",
       " {'neg': 0.259, 'neu': 0.741, 'pos': 0.0},\n",
       " {'neg': 0.227, 'neu': 0.773, 'pos': 0.0},\n",
       " {'neg': 0.2, 'neu': 0.8, 'pos': 0.0},\n",
       " {'neg': 0.083, 'neu': 0.826, 'pos': 0.091},\n",
       " {'neg': 0.0, 'neu': 0.692, 'pos': 0.308},\n",
       " {'neg': 0.0, 'neu': 0.78, 'pos': 0.22},\n",
       " {'neg': 0.076, 'neu': 0.643, 'pos': 0.281},\n",
       " {'neg': 0.126, 'neu': 0.737, 'pos': 0.137},\n",
       " {'neg': 0.159, 'neu': 0.754, 'pos': 0.087},\n",
       " {'neg': 0.196, 'neu': 0.804, 'pos': 0.0},\n",
       " {'neg': 0.0, 'neu': 0.909, 'pos': 0.091},\n",
       " {'neg': 0.427, 'neu': 0.573, 'pos': 0.0},\n",
       " {'neg': 0.242, 'neu': 0.758, 'pos': 0.0},\n",
       " {'neg': 0.0, 'neu': 0.71, 'pos': 0.29},\n",
       " {'neg': 0.0, 'neu': 1.0, 'pos': 0.0},\n",
       " {'neg': 0.0, 'neu': 1.0, 'pos': 0.0},\n",
       " {'neg': 0.0, 'neu': 0.745, 'pos': 0.255},\n",
       " {'neg': 0.0, 'neu': 0.851, 'pos': 0.149},\n",
       " {'neg': 0.161, 'neu': 0.839, 'pos': 0.0},\n",
       " {'neg': 0.0, 'neu': 0.701, 'pos': 0.299},\n",
       " {'neg': 0.298, 'neu': 0.55, 'pos': 0.151},\n",
       " {'neg': 0.0, 'neu': 0.741, 'pos': 0.259},\n",
       " {'neg': 0.0, 'neu': 1.0, 'pos': 0.0},\n",
       " {'neg': 0.0, 'neu': 0.809, 'pos': 0.191},\n",
       " {'neg': 0.0, 'neu': 0.74, 'pos': 0.26},\n",
       " {'neg': 0.178, 'neu': 0.736, 'pos': 0.086},\n",
       " {'neg': 0.23, 'neu': 0.632, 'pos': 0.138},\n",
       " {'neg': 0.213, 'neu': 0.787, 'pos': 0.0},\n",
       " {'neg': 0.0, 'neu': 0.847, 'pos': 0.153},\n",
       " {'neg': 0.12, 'neu': 0.88, 'pos': 0.0},\n",
       " {'neg': 0.0, 'neu': 1.0, 'pos': 0.0},\n",
       " {'neg': 0.128, 'neu': 0.872, 'pos': 0.0},\n",
       " {'neg': 0.155, 'neu': 0.714, 'pos': 0.131},\n",
       " {'neg': 0.0, 'neu': 0.673, 'pos': 0.327},\n",
       " {'neg': 0.0, 'neu': 0.901, 'pos': 0.099},\n",
       " {'neg': 0.079, 'neu': 0.649, 'pos': 0.272},\n",
       " {'neg': 0.088, 'neu': 0.706, 'pos': 0.206},\n",
       " {'neg': 0.0, 'neu': 1.0, 'pos': 0.0},\n",
       " {'neg': 0.173, 'neu': 0.827, 'pos': 0.0},\n",
       " {'neg': 0.122, 'neu': 0.745, 'pos': 0.133},\n",
       " {'neg': 0.0, 'neu': 0.796, 'pos': 0.204},\n",
       " {'neg': 0.0, 'neu': 1.0, 'pos': 0.0},\n",
       " {'neg': 0.344, 'neu': 0.656, 'pos': 0.0},\n",
       " {'neg': 0.383, 'neu': 0.53, 'pos': 0.087},\n",
       " {'neg': 0.117, 'neu': 0.733, 'pos': 0.15},\n",
       " {'neg': 0.0, 'neu': 1.0, 'pos': 0.0},\n",
       " {'neg': 0.231, 'neu': 0.769, 'pos': 0.0},\n",
       " {'neg': 0.175, 'neu': 0.825, 'pos': 0.0},\n",
       " {'neg': 0.093, 'neu': 0.794, 'pos': 0.112},\n",
       " {'neg': 0.113, 'neu': 0.75, 'pos': 0.137},\n",
       " {'neg': 0.214, 'neu': 0.786, 'pos': 0.0},\n",
       " {'neg': 0.0, 'neu': 1.0, 'pos': 0.0},\n",
       " {'neg': 0.0, 'neu': 1.0, 'pos': 0.0},\n",
       " {'neg': 0.167, 'neu': 0.833, 'pos': 0.0},\n",
       " {'neg': 0.0, 'neu': 0.79, 'pos': 0.21},\n",
       " {'neg': 0.12, 'neu': 0.88, 'pos': 0.0},\n",
       " {'neg': 0.0, 'neu': 0.936, 'pos': 0.064},\n",
       " {'neg': 0.264, 'neu': 0.736, 'pos': 0.0},\n",
       " {'neg': 0.117, 'neu': 0.626, 'pos': 0.257},\n",
       " {'neg': 0.0, 'neu': 1.0, 'pos': 0.0},\n",
       " {'neg': 0.0, 'neu': 1.0, 'pos': 0.0},\n",
       " {'neg': 0.0, 'neu': 1.0, 'pos': 0.0},\n",
       " {'neg': 0.09, 'neu': 0.755, 'pos': 0.155},\n",
       " {'neg': 0.0, 'neu': 0.789, 'pos': 0.211},\n",
       " {'neg': 0.0, 'neu': 1.0, 'pos': 0.0},\n",
       " {'neg': 0.127, 'neu': 0.591, 'pos': 0.282},\n",
       " {'neg': 0.127, 'neu': 0.873, 'pos': 0.0},\n",
       " {'neg': 0.194, 'neu': 0.806, 'pos': 0.0},\n",
       " {'neg': 0.0, 'neu': 0.729, 'pos': 0.271},\n",
       " {'neg': 0.0, 'neu': 0.791, 'pos': 0.209},\n",
       " {'neg': 0.0, 'neu': 0.857, 'pos': 0.143},\n",
       " {'neg': 0.0, 'neu': 1.0, 'pos': 0.0},\n",
       " {'neg': 0.485, 'neu': 0.515, 'pos': 0.0},\n",
       " {'neg': 0.0, 'neu': 1.0, 'pos': 0.0},\n",
       " {'neg': 0.254, 'neu': 0.746, 'pos': 0.0},\n",
       " {'neg': 0.0, 'neu': 1.0, 'pos': 0.0},\n",
       " {'neg': 0.0, 'neu': 1.0, 'pos': 0.0},\n",
       " {'neg': 0.0, 'neu': 1.0, 'pos': 0.0},\n",
       " {'neg': 0.0, 'neu': 1.0, 'pos': 0.0},\n",
       " {'neg': 0.0, 'neu': 0.76, 'pos': 0.24},\n",
       " {'neg': 0.141, 'neu': 0.859, 'pos': 0.0},\n",
       " {'neg': 0.127, 'neu': 0.873, 'pos': 0.0},\n",
       " {'neg': 0.104, 'neu': 0.664, 'pos': 0.232},\n",
       " {'neg': 0.151, 'neu': 0.849, 'pos': 0.0},\n",
       " {'neg': 0.133, 'neu': 0.867, 'pos': 0.0},\n",
       " {'neg': 0.0, 'neu': 1.0, 'pos': 0.0},\n",
       " {'neg': 0.234, 'neu': 0.766, 'pos': 0.0},\n",
       " {'neg': 0.087, 'neu': 0.794, 'pos': 0.119},\n",
       " {'neg': 0.087, 'neu': 0.614, 'pos': 0.3},\n",
       " {'neg': 0.0, 'neu': 0.724, 'pos': 0.276},\n",
       " {'neg': 0.164, 'neu': 0.836, 'pos': 0.0},\n",
       " {'neg': 0.0, 'neu': 1.0, 'pos': 0.0},\n",
       " {'neg': 0.168, 'neu': 0.681, 'pos': 0.151},\n",
       " {'neg': 0.235, 'neu': 0.65, 'pos': 0.115},\n",
       " {'neg': 0.0, 'neu': 0.579, 'pos': 0.421},\n",
       " {'neg': 0.206, 'neu': 0.635, 'pos': 0.159},\n",
       " {'neg': 0.144, 'neu': 0.856, 'pos': 0.0},\n",
       " {'neg': 0.088, 'neu': 0.809, 'pos': 0.103},\n",
       " {'neg': 0.124, 'neu': 0.783, 'pos': 0.093},\n",
       " {'neg': 0.071, 'neu': 0.929, 'pos': 0.0},\n",
       " {'neg': 0.0, 'neu': 0.681, 'pos': 0.319},\n",
       " {'neg': 0.0, 'neu': 0.811, 'pos': 0.189},\n",
       " {'neg': 0.144, 'neu': 0.856, 'pos': 0.0},\n",
       " {'neg': 0.218, 'neu': 0.684, 'pos': 0.098},\n",
       " {'neg': 0.0, 'neu': 1.0, 'pos': 0.0},\n",
       " {'neg': 0.0, 'neu': 1.0, 'pos': 0.0},\n",
       " {'neg': 0.0, 'neu': 0.675, 'pos': 0.325},\n",
       " {'neg': 0.128, 'neu': 0.872, 'pos': 0.0},\n",
       " {'neg': 0.0, 'neu': 0.884, 'pos': 0.116},\n",
       " {'neg': 0.147, 'neu': 0.753, 'pos': 0.1},\n",
       " {'neg': 0.377, 'neu': 0.623, 'pos': 0.0},\n",
       " {'neg': 0.0, 'neu': 1.0, 'pos': 0.0},\n",
       " {'neg': 0.17, 'neu': 0.695, 'pos': 0.135},\n",
       " {'neg': 0.14, 'neu': 0.723, 'pos': 0.136},\n",
       " {'neg': 0.0, 'neu': 0.838, 'pos': 0.162},\n",
       " {'neg': 0.0, 'neu': 1.0, 'pos': 0.0},\n",
       " {'neg': 0.0, 'neu': 0.842, 'pos': 0.158},\n",
       " {'neg': 0.0, 'neu': 0.932, 'pos': 0.068},\n",
       " {'neg': 0.0, 'neu': 0.753, 'pos': 0.247},\n",
       " {'neg': 0.056, 'neu': 0.689, 'pos': 0.255},\n",
       " {'neg': 0.0, 'neu': 1.0, 'pos': 0.0},\n",
       " {'neg': 0.0, 'neu': 0.711, 'pos': 0.289},\n",
       " {'neg': 0.39, 'neu': 0.61, 'pos': 0.0},\n",
       " {'neg': 0.467, 'neu': 0.533, 'pos': 0.0},\n",
       " {'neg': 0.0, 'neu': 0.806, 'pos': 0.194},\n",
       " {'neg': 0.0, 'neu': 1.0, 'pos': 0.0},\n",
       " {'neg': 0.0, 'neu': 0.906, 'pos': 0.094},\n",
       " {'neg': 0.0, 'neu': 0.867, 'pos': 0.133},\n",
       " {'neg': 0.122, 'neu': 0.878, 'pos': 0.0},\n",
       " {'neg': 0.098, 'neu': 0.631, 'pos': 0.271},\n",
       " {'neg': 0.0, 'neu': 1.0, 'pos': 0.0},\n",
       " {'neg': 0.127, 'neu': 0.873, 'pos': 0.0},\n",
       " {'neg': 0.0, 'neu': 0.68, 'pos': 0.32},\n",
       " {'neg': 0.0, 'neu': 1.0, 'pos': 0.0},\n",
       " {'neg': 0.0, 'neu': 0.802, 'pos': 0.198},\n",
       " {'neg': 0.0, 'neu': 0.638, 'pos': 0.362},\n",
       " {'neg': 0.082, 'neu': 0.765, 'pos': 0.153},\n",
       " {'neg': 0.177, 'neu': 0.823, 'pos': 0.0},\n",
       " {'neg': 0.059, 'neu': 0.538, 'pos': 0.403},\n",
       " {'neg': 0.218, 'neu': 0.664, 'pos': 0.118},\n",
       " {'neg': 0.146, 'neu': 0.854, 'pos': 0.0},\n",
       " {'neg': 0.0, 'neu': 1.0, 'pos': 0.0},\n",
       " {'neg': 0.0, 'neu': 1.0, 'pos': 0.0},\n",
       " {'neg': 0.176, 'neu': 0.824, 'pos': 0.0},\n",
       " {'neg': 0.209, 'neu': 0.791, 'pos': 0.0},\n",
       " {'neg': 0.197, 'neu': 0.64, 'pos': 0.163},\n",
       " {'neg': 0.098, 'neu': 0.8, 'pos': 0.102},\n",
       " {'neg': 0.158, 'neu': 0.842, 'pos': 0.0},\n",
       " {'neg': 0.142, 'neu': 0.637, 'pos': 0.221},\n",
       " {'neg': 0.0, 'neu': 0.745, 'pos': 0.255},\n",
       " {'neg': 0.178, 'neu': 0.822, 'pos': 0.0},\n",
       " {'neg': 0.132, 'neu': 0.746, 'pos': 0.123},\n",
       " {'neg': 0.0, 'neu': 0.715, 'pos': 0.285},\n",
       " {'neg': 0.0, 'neu': 1.0, 'pos': 0.0},\n",
       " {'neg': 0.0, 'neu': 0.932, 'pos': 0.068},\n",
       " {'neg': 0.0, 'neu': 0.917, 'pos': 0.083},\n",
       " {'neg': 0.153, 'neu': 0.847, 'pos': 0.0},\n",
       " {'neg': 0.368, 'neu': 0.632, 'pos': 0.0},\n",
       " {'neg': 0.0, 'neu': 0.881, 'pos': 0.119},\n",
       " {'neg': 0.219, 'neu': 0.536, 'pos': 0.245},\n",
       " {'neg': 0.0, 'neu': 0.922, 'pos': 0.078},\n",
       " {'neg': 0.275, 'neu': 0.725, 'pos': 0.0},\n",
       " {'neg': 0.0, 'neu': 0.838, 'pos': 0.162},\n",
       " {'neg': 0.0, 'neu': 0.842, 'pos': 0.158},\n",
       " {'neg': 0.0, 'neu': 1.0, 'pos': 0.0},\n",
       " {'neg': 0.0, 'neu': 1.0, 'pos': 0.0},\n",
       " {'neg': 0.312, 'neu': 0.58, 'pos': 0.107},\n",
       " {'neg': 0.0, 'neu': 1.0, 'pos': 0.0},\n",
       " {'neg': 0.371, 'neu': 0.629, 'pos': 0.0},\n",
       " {'neg': 0.0, 'neu': 0.846, 'pos': 0.154},\n",
       " {'neg': 0.0, 'neu': 1.0, 'pos': 0.0},\n",
       " {'neg': 0.32, 'neu': 0.68, 'pos': 0.0},\n",
       " {'neg': 0.2, 'neu': 0.8, 'pos': 0.0},\n",
       " {'neg': 0.13, 'neu': 0.87, 'pos': 0.0},\n",
       " {'neg': 0.0, 'neu': 0.798, 'pos': 0.202},\n",
       " {'neg': 0.0, 'neu': 1.0, 'pos': 0.0},\n",
       " {'neg': 0.0, 'neu': 0.815, 'pos': 0.185},\n",
       " {'neg': 0.0, 'neu': 0.702, 'pos': 0.298},\n",
       " {'neg': 0.262, 'neu': 0.654, 'pos': 0.084},\n",
       " {'neg': 0.0, 'neu': 0.731, 'pos': 0.269},\n",
       " {'neg': 0.131, 'neu': 0.766, 'pos': 0.104},\n",
       " {'neg': 0.0, 'neu': 0.721, 'pos': 0.279},\n",
       " {'neg': 0.0, 'neu': 0.824, 'pos': 0.176},\n",
       " {'neg': 0.0, 'neu': 0.573, 'pos': 0.427},\n",
       " {'neg': 0.0, 'neu': 0.784, 'pos': 0.216},\n",
       " {'neg': 0.109, 'neu': 0.766, 'pos': 0.125},\n",
       " {'neg': 0.078, 'neu': 0.712, 'pos': 0.21},\n",
       " {'neg': 0.099, 'neu': 0.901, 'pos': 0.0},\n",
       " {'neg': 0.166, 'neu': 0.616, 'pos': 0.217},\n",
       " {'neg': 0.0, 'neu': 0.812, 'pos': 0.188},\n",
       " {'neg': 0.0, 'neu': 0.725, 'pos': 0.275},\n",
       " {'neg': 0.0, 'neu': 1.0, 'pos': 0.0},\n",
       " {'neg': 0.159, 'neu': 0.841, 'pos': 0.0},\n",
       " {'neg': 0.142, 'neu': 0.734, 'pos': 0.124},\n",
       " {'neg': 0.119, 'neu': 0.577, 'pos': 0.304},\n",
       " {'neg': 0.0, 'neu': 0.846, 'pos': 0.154},\n",
       " {'neg': 0.0, 'neu': 1.0, 'pos': 0.0},\n",
       " {'neg': 0.0, 'neu': 0.542, 'pos': 0.458},\n",
       " {'neg': 0.262, 'neu': 0.678, 'pos': 0.06},\n",
       " {'neg': 0.0, 'neu': 1.0, 'pos': 0.0},\n",
       " {'neg': 0.123, 'neu': 0.877, 'pos': 0.0},\n",
       " {'neg': 0.16, 'neu': 0.84, 'pos': 0.0},\n",
       " {'neg': 0.151, 'neu': 0.736, 'pos': 0.114},\n",
       " {'neg': 0.0, 'neu': 0.716, 'pos': 0.284},\n",
       " {'neg': 0.237, 'neu': 0.763, 'pos': 0.0},\n",
       " {'neg': 0.218, 'neu': 0.782, 'pos': 0.0},\n",
       " {'neg': 0.0, 'neu': 1.0, 'pos': 0.0},\n",
       " {'neg': 0.138, 'neu': 0.862, 'pos': 0.0},\n",
       " {'neg': 0.213, 'neu': 0.666, 'pos': 0.121},\n",
       " {'neg': 0.123, 'neu': 0.578, 'pos': 0.3},\n",
       " {'neg': 0.084, 'neu': 0.613, 'pos': 0.302},\n",
       " {'neg': 0.179, 'neu': 0.655, 'pos': 0.166},\n",
       " {'neg': 0.0, 'neu': 0.697, 'pos': 0.303},\n",
       " {'neg': 0.0, 'neu': 0.726, 'pos': 0.274},\n",
       " {'neg': 0.408, 'neu': 0.592, 'pos': 0.0},\n",
       " {'neg': 0.115, 'neu': 0.728, 'pos': 0.157},\n",
       " {'neg': 0.084, 'neu': 0.759, 'pos': 0.156},\n",
       " {'neg': 0.128, 'neu': 0.766, 'pos': 0.106},\n",
       " {'neg': 0.0, 'neu': 0.927, 'pos': 0.073},\n",
       " {'neg': 0.0, 'neu': 1.0, 'pos': 0.0},\n",
       " {'neg': 0.167, 'neu': 0.625, 'pos': 0.208},\n",
       " {'neg': 0.0, 'neu': 0.924, 'pos': 0.076},\n",
       " {'neg': 0.0, 'neu': 0.809, 'pos': 0.191},\n",
       " {'neg': 0.0, 'neu': 0.785, 'pos': 0.215},\n",
       " {'neg': 0.224, 'neu': 0.664, 'pos': 0.112},\n",
       " {'neg': 0.0, 'neu': 0.92, 'pos': 0.08},\n",
       " {'neg': 0.0, 'neu': 0.851, 'pos': 0.149},\n",
       " {'neg': 0.0, 'neu': 0.772, 'pos': 0.228},\n",
       " {'neg': 0.0, 'neu': 0.737, 'pos': 0.263},\n",
       " {'neg': 0.0, 'neu': 1.0, 'pos': 0.0},\n",
       " {'neg': 0.0, 'neu': 1.0, 'pos': 0.0},\n",
       " {'neg': 0.088, 'neu': 0.84, 'pos': 0.072},\n",
       " {'neg': 0.112, 'neu': 0.888, 'pos': 0.0},\n",
       " {'neg': 0.101, 'neu': 0.899, 'pos': 0.0},\n",
       " {'neg': 0.261, 'neu': 0.613, 'pos': 0.126},\n",
       " {'neg': 0.082, 'neu': 0.601, 'pos': 0.316},\n",
       " {'neg': 0.109, 'neu': 0.891, 'pos': 0.0},\n",
       " {'neg': 0.179, 'neu': 0.821, 'pos': 0.0},\n",
       " {'neg': 0.0, 'neu': 0.918, 'pos': 0.082},\n",
       " {'neg': 0.069, 'neu': 0.69, 'pos': 0.241},\n",
       " {'neg': 0.18, 'neu': 0.82, 'pos': 0.0},\n",
       " {'neg': 0.285, 'neu': 0.715, 'pos': 0.0},\n",
       " {'neg': 0.426, 'neu': 0.574, 'pos': 0.0},\n",
       " {'neg': 0.0, 'neu': 0.695, 'pos': 0.305},\n",
       " {'neg': 0.119, 'neu': 0.881, 'pos': 0.0},\n",
       " {'neg': 0.202, 'neu': 0.573, 'pos': 0.225},\n",
       " {'neg': 0.104, 'neu': 0.896, 'pos': 0.0},\n",
       " {'neg': 0.0, 'neu': 0.827, 'pos': 0.173},\n",
       " {'neg': 0.221, 'neu': 0.779, 'pos': 0.0},\n",
       " {'neg': 0.174, 'neu': 0.826, 'pos': 0.0},\n",
       " {'neg': 0.0, 'neu': 0.744, 'pos': 0.256},\n",
       " {'neg': 0.115, 'neu': 0.746, 'pos': 0.139},\n",
       " {'neg': 0.143, 'neu': 0.857, 'pos': 0.0},\n",
       " {'neg': 0.0, 'neu': 0.66, 'pos': 0.34},\n",
       " {'neg': 0.148, 'neu': 0.76, 'pos': 0.092},\n",
       " {'neg': 0.0, 'neu': 1.0, 'pos': 0.0},\n",
       " {'neg': 0.284, 'neu': 0.568, 'pos': 0.148},\n",
       " {'neg': 0.121, 'neu': 0.879, 'pos': 0.0},\n",
       " {'neg': 0.119, 'neu': 0.881, 'pos': 0.0},\n",
       " {'neg': 0.299, 'neu': 0.59, 'pos': 0.111},\n",
       " {'neg': 0.0, 'neu': 1.0, 'pos': 0.0},\n",
       " {'neg': 0.0, 'neu': 1.0, 'pos': 0.0},\n",
       " {'neg': 0.089, 'neu': 0.714, 'pos': 0.196},\n",
       " {'neg': 0.0, 'neu': 0.575, 'pos': 0.425},\n",
       " {'neg': 0.139, 'neu': 0.569, 'pos': 0.293},\n",
       " {'neg': 0.0, 'neu': 0.756, 'pos': 0.244},\n",
       " {'neg': 0.108, 'neu': 0.783, 'pos': 0.109},\n",
       " {'neg': 0.348, 'neu': 0.652, 'pos': 0.0},\n",
       " {'neg': 0.184, 'neu': 0.691, 'pos': 0.124},\n",
       " {'neg': 0.0, 'neu': 1.0, 'pos': 0.0},\n",
       " {'neg': 0.0, 'neu': 0.896, 'pos': 0.104},\n",
       " {'neg': 0.148, 'neu': 0.613, 'pos': 0.239},\n",
       " {'neg': 0.087, 'neu': 0.722, 'pos': 0.19},\n",
       " {'neg': 0.0, 'neu': 1.0, 'pos': 0.0},\n",
       " {'neg': 0.102, 'neu': 0.636, 'pos': 0.262},\n",
       " {'neg': 0.377, 'neu': 0.623, 'pos': 0.0},\n",
       " {'neg': 0.139, 'neu': 0.756, 'pos': 0.105},\n",
       " {'neg': 0.0, 'neu': 0.446, 'pos': 0.554},\n",
       " {'neg': 0.0, 'neu': 0.581, 'pos': 0.419},\n",
       " {'neg': 0.109, 'neu': 0.753, 'pos': 0.138},\n",
       " {'neg': 0.121, 'neu': 0.879, 'pos': 0.0},\n",
       " {'neg': 0.194, 'neu': 0.806, 'pos': 0.0},\n",
       " {'neg': 0.145, 'neu': 0.625, 'pos': 0.23},\n",
       " {'neg': 0.143, 'neu': 0.857, 'pos': 0.0},\n",
       " {'neg': 0.07, 'neu': 0.696, 'pos': 0.234},\n",
       " {'neg': 0.0, 'neu': 1.0, 'pos': 0.0},\n",
       " {'neg': 0.0, 'neu': 0.714, 'pos': 0.286},\n",
       " {'neg': 0.092, 'neu': 0.671, 'pos': 0.237},\n",
       " {'neg': 0.0, 'neu': 0.838, 'pos': 0.162},\n",
       " {'neg': 0.217, 'neu': 0.685, 'pos': 0.098},\n",
       " {'neg': 0.0, 'neu': 0.556, 'pos': 0.444},\n",
       " {'neg': 0.0, 'neu': 0.769, 'pos': 0.231},\n",
       " {'neg': 0.116, 'neu': 0.677, 'pos': 0.207},\n",
       " {'neg': 0.0, 'neu': 1.0, 'pos': 0.0},\n",
       " {'neg': 0.0, 'neu': 1.0, 'pos': 0.0},\n",
       " {'neg': 0.173, 'neu': 0.677, 'pos': 0.15},\n",
       " {'neg': 0.0, 'neu': 0.813, 'pos': 0.187},\n",
       " {'neg': 0.0, 'neu': 1.0, 'pos': 0.0},\n",
       " {'neg': 0.0, 'neu': 0.58, 'pos': 0.42},\n",
       " {'neg': 0.18, 'neu': 0.484, 'pos': 0.336},\n",
       " {'neg': 0.0, 'neu': 1.0, 'pos': 0.0},\n",
       " {'neg': 0.0, 'neu': 1.0, 'pos': 0.0},\n",
       " {'neg': 0.082, 'neu': 0.603, 'pos': 0.315},\n",
       " {'neg': 0.1, 'neu': 0.9, 'pos': 0.0},\n",
       " {'neg': 0.065, 'neu': 0.935, 'pos': 0.0},\n",
       " {'neg': 0.0, 'neu': 0.798, 'pos': 0.202},\n",
       " {'neg': 0.138, 'neu': 0.862, 'pos': 0.0},\n",
       " {'neg': 0.0, 'neu': 1.0, 'pos': 0.0},\n",
       " {'neg': 0.227, 'neu': 0.773, 'pos': 0.0},\n",
       " {'neg': 0.068, 'neu': 0.732, 'pos': 0.2},\n",
       " {'neg': 0.0, 'neu': 0.691, 'pos': 0.309},\n",
       " {'neg': 0.0, 'neu': 0.845, 'pos': 0.155},\n",
       " {'neg': 0.0, 'neu': 1.0, 'pos': 0.0},\n",
       " {'neg': 0.075, 'neu': 0.871, 'pos': 0.054},\n",
       " {'neg': 0.17, 'neu': 0.758, 'pos': 0.072},\n",
       " {'neg': 0.139, 'neu': 0.736, 'pos': 0.126},\n",
       " {'neg': 0.0, 'neu': 0.873, 'pos': 0.127},\n",
       " {'neg': 0.178, 'neu': 0.556, 'pos': 0.266},\n",
       " {'neg': 0.0, 'neu': 0.837, 'pos': 0.163},\n",
       " {'neg': 0.0, 'neu': 1.0, 'pos': 0.0},\n",
       " {'neg': 0.076, 'neu': 0.622, 'pos': 0.302},\n",
       " {'neg': 0.0, 'neu': 0.892, 'pos': 0.108},\n",
       " {'neg': 0.0, 'neu': 1.0, 'pos': 0.0},\n",
       " {'neg': 0.0, 'neu': 1.0, 'pos': 0.0},\n",
       " {'neg': 0.154, 'neu': 0.714, 'pos': 0.132},\n",
       " {'neg': 0.122, 'neu': 0.706, 'pos': 0.172},\n",
       " {'neg': 0.0, 'neu': 1.0, 'pos': 0.0},\n",
       " {'neg': 0.0, 'neu': 0.891, 'pos': 0.109},\n",
       " {'neg': 0.0, 'neu': 1.0, 'pos': 0.0},\n",
       " {'neg': 0.146, 'neu': 0.854, 'pos': 0.0},\n",
       " {'neg': 0.23, 'neu': 0.705, 'pos': 0.065},\n",
       " {'neg': 0.0, 'neu': 1.0, 'pos': 0.0},\n",
       " {'neg': 0.211, 'neu': 0.694, 'pos': 0.095},\n",
       " {'neg': 0.0, 'neu': 0.625, 'pos': 0.375},\n",
       " {'neg': 0.0, 'neu': 0.806, 'pos': 0.194},\n",
       " {'neg': 0.0, 'neu': 1.0, 'pos': 0.0},\n",
       " {'neg': 0.209, 'neu': 0.683, 'pos': 0.107},\n",
       " {'neg': 0.0, 'neu': 0.885, 'pos': 0.115},\n",
       " {'neg': 0.147, 'neu': 0.853, 'pos': 0.0},\n",
       " {'neg': 0.184, 'neu': 0.816, 'pos': 0.0},\n",
       " {'neg': 0.0, 'neu': 0.604, 'pos': 0.396},\n",
       " {'neg': 0.0, 'neu': 0.723, 'pos': 0.277},\n",
       " {'neg': 0.125, 'neu': 0.715, 'pos': 0.16},\n",
       " {'neg': 0.0, 'neu': 0.852, 'pos': 0.148},\n",
       " {'neg': 0.0, 'neu': 0.747, 'pos': 0.253},\n",
       " {'neg': 0.128, 'neu': 0.741, 'pos': 0.132},\n",
       " {'neg': 0.238, 'neu': 0.762, 'pos': 0.0},\n",
       " {'neg': 0.088, 'neu': 0.651, 'pos': 0.261},\n",
       " {'neg': 0.0, 'neu': 1.0, 'pos': 0.0},\n",
       " {'neg': 0.0, 'neu': 0.68, 'pos': 0.32},\n",
       " {'neg': 0.279, 'neu': 0.721, 'pos': 0.0},\n",
       " {'neg': 0.0, 'neu': 1.0, 'pos': 0.0},\n",
       " {'neg': 0.109, 'neu': 0.891, 'pos': 0.0},\n",
       " {'neg': 0.0, 'neu': 0.735, 'pos': 0.265},\n",
       " {'neg': 0.0, 'neu': 0.755, 'pos': 0.245},\n",
       " {'neg': 0.0, 'neu': 0.567, 'pos': 0.433},\n",
       " {'neg': 0.139, 'neu': 0.606, 'pos': 0.255},\n",
       " {'neg': 0.257, 'neu': 0.743, 'pos': 0.0},\n",
       " {'neg': 0.0, 'neu': 0.61, 'pos': 0.39},\n",
       " {'neg': 0.32, 'neu': 0.68, 'pos': 0.0},\n",
       " {'neg': 0.226, 'neu': 0.774, 'pos': 0.0},\n",
       " {'neg': 0.0, 'neu': 0.607, 'pos': 0.393},\n",
       " {'neg': 0.118, 'neu': 0.882, 'pos': 0.0},\n",
       " {'neg': 0.0, 'neu': 1.0, 'pos': 0.0},\n",
       " {'neg': 0.154, 'neu': 0.686, 'pos': 0.16},\n",
       " {'neg': 0.241, 'neu': 0.759, 'pos': 0.0},\n",
       " {'neg': 0.0, 'neu': 1.0, 'pos': 0.0},\n",
       " {'neg': 0.0, 'neu': 1.0, 'pos': 0.0},\n",
       " {'neg': 0.0, 'neu': 0.764, 'pos': 0.236},\n",
       " {'neg': 0.0, 'neu': 0.92, 'pos': 0.08},\n",
       " {'neg': 0.088, 'neu': 0.704, 'pos': 0.208},\n",
       " {'neg': 0.251, 'neu': 0.43, 'pos': 0.319},\n",
       " {'neg': 0.0, 'neu': 0.766, 'pos': 0.234},\n",
       " {'neg': 0.194, 'neu': 0.806, 'pos': 0.0},\n",
       " {'neg': 0.0, 'neu': 1.0, 'pos': 0.0},\n",
       " {'neg': 0.0, 'neu': 0.837, 'pos': 0.163},\n",
       " {'neg': 0.0, 'neu': 1.0, 'pos': 0.0},\n",
       " {'neg': 0.0, 'neu': 1.0, 'pos': 0.0},\n",
       " {'neg': 0.119, 'neu': 0.734, 'pos': 0.147},\n",
       " {'neg': 0.0, 'neu': 0.65, 'pos': 0.35},\n",
       " {'neg': 0.0, 'neu': 1.0, 'pos': 0.0},\n",
       " {'neg': 0.0, 'neu': 0.549, 'pos': 0.451},\n",
       " {'neg': 0.29, 'neu': 0.71, 'pos': 0.0},\n",
       " {'neg': 0.178, 'neu': 0.822, 'pos': 0.0},\n",
       " {'neg': 0.193, 'neu': 0.807, 'pos': 0.0},\n",
       " {'neg': 0.201, 'neu': 0.709, 'pos': 0.09},\n",
       " {'neg': 0.0, 'neu': 0.714, 'pos': 0.286},\n",
       " {'neg': 0.0, 'neu': 0.715, 'pos': 0.285},\n",
       " {'neg': 0.082, 'neu': 0.918, 'pos': 0.0},\n",
       " {'neg': 0.0, 'neu': 0.664, 'pos': 0.336},\n",
       " {'neg': 0.14, 'neu': 0.86, 'pos': 0.0},\n",
       " {'neg': 0.0, 'neu': 0.923, 'pos': 0.077},\n",
       " {'neg': 0.096, 'neu': 0.8, 'pos': 0.104},\n",
       " {'neg': 0.0, 'neu': 0.715, 'pos': 0.285},\n",
       " {'neg': 0.27, 'neu': 0.73, 'pos': 0.0},\n",
       " {'neg': 0.0, 'neu': 1.0, 'pos': 0.0},\n",
       " {'neg': 0.252, 'neu': 0.748, 'pos': 0.0},\n",
       " {'neg': 0.151, 'neu': 0.714, 'pos': 0.134},\n",
       " {'neg': 0.148, 'neu': 0.739, 'pos': 0.113},\n",
       " {'neg': 0.0, 'neu': 1.0, 'pos': 0.0},\n",
       " {'neg': 0.0, 'neu': 0.691, 'pos': 0.309},\n",
       " {'neg': 0.0, 'neu': 1.0, 'pos': 0.0},\n",
       " {'neg': 0.0, 'neu': 1.0, 'pos': 0.0},\n",
       " {'neg': 0.127, 'neu': 0.873, 'pos': 0.0},\n",
       " {'neg': 0.0, 'neu': 1.0, 'pos': 0.0},\n",
       " {'neg': 0.0, 'neu': 0.83, 'pos': 0.17},\n",
       " {'neg': 0.067, 'neu': 0.675, 'pos': 0.258},\n",
       " {'neg': 0.0, 'neu': 0.894, 'pos': 0.106},\n",
       " {'neg': 0.0, 'neu': 0.679, 'pos': 0.321},\n",
       " {'neg': 0.0, 'neu': 0.658, 'pos': 0.342},\n",
       " {'neg': 0.137, 'neu': 0.726, 'pos': 0.137},\n",
       " {'neg': 0.0, 'neu': 0.882, 'pos': 0.118},\n",
       " {'neg': 0.057, 'neu': 0.483, 'pos': 0.459},\n",
       " {'neg': 0.211, 'neu': 0.789, 'pos': 0.0},\n",
       " {'neg': 0.0, 'neu': 1.0, 'pos': 0.0},\n",
       " {'neg': 0.169, 'neu': 0.634, 'pos': 0.197},\n",
       " {'neg': 0.25, 'neu': 0.556, 'pos': 0.194},\n",
       " {'neg': 0.0, 'neu': 0.728, 'pos': 0.272},\n",
       " {'neg': 0.194, 'neu': 0.712, 'pos': 0.094},\n",
       " {'neg': 0.0, 'neu': 0.896, 'pos': 0.104},\n",
       " {'neg': 0.119, 'neu': 0.881, 'pos': 0.0},\n",
       " {'neg': 0.0, 'neu': 1.0, 'pos': 0.0},\n",
       " {'neg': 0.128, 'neu': 0.872, 'pos': 0.0},\n",
       " {'neg': 0.084, 'neu': 0.805, 'pos': 0.111},\n",
       " {'neg': 0.0, 'neu': 1.0, 'pos': 0.0},\n",
       " {'neg': 0.144, 'neu': 0.612, 'pos': 0.245},\n",
       " {'neg': 0.0, 'neu': 0.895, 'pos': 0.105},\n",
       " {'neg': 0.137, 'neu': 0.588, 'pos': 0.275},\n",
       " {'neg': 0.0, 'neu': 0.631, 'pos': 0.369},\n",
       " {'neg': 0.118, 'neu': 0.742, 'pos': 0.14},\n",
       " {'neg': 0.12, 'neu': 0.88, 'pos': 0.0},\n",
       " {'neg': 0.0, 'neu': 0.833, 'pos': 0.167},\n",
       " {'neg': 0.0, 'neu': 1.0, 'pos': 0.0},\n",
       " {'neg': 0.0, 'neu': 0.528, 'pos': 0.472},\n",
       " {'neg': 0.0, 'neu': 0.758, 'pos': 0.242},\n",
       " {'neg': 0.0, 'neu': 0.801, 'pos': 0.199},\n",
       " {'neg': 0.0, 'neu': 1.0, 'pos': 0.0},\n",
       " {'neg': 0.0, 'neu': 0.585, 'pos': 0.415},\n",
       " {'neg': 0.0, 'neu': 0.909, 'pos': 0.091},\n",
       " {'neg': 0.215, 'neu': 0.661, 'pos': 0.124},\n",
       " {'neg': 0.0, 'neu': 1.0, 'pos': 0.0},\n",
       " {'neg': 0.0, 'neu': 0.843, 'pos': 0.157},\n",
       " {'neg': 0.241, 'neu': 0.491, 'pos': 0.268},\n",
       " {'neg': 0.18, 'neu': 0.693, 'pos': 0.127},\n",
       " {'neg': 0.247, 'neu': 0.615, 'pos': 0.138},\n",
       " {'neg': 0.286, 'neu': 0.714, 'pos': 0.0},\n",
       " {'neg': 0.295, 'neu': 0.705, 'pos': 0.0},\n",
       " {'neg': 0.0, 'neu': 0.702, 'pos': 0.298},\n",
       " {'neg': 0.175, 'neu': 0.665, 'pos': 0.16},\n",
       " {'neg': 0.0, 'neu': 0.7, 'pos': 0.3},\n",
       " {'neg': 0.0, 'neu': 0.838, 'pos': 0.162},\n",
       " {'neg': 0.0, 'neu': 1.0, 'pos': 0.0},\n",
       " {'neg': 0.0, 'neu': 0.657, 'pos': 0.343},\n",
       " {'neg': 0.102, 'neu': 0.677, 'pos': 0.221},\n",
       " {'neg': 0.0, 'neu': 0.743, 'pos': 0.257},\n",
       " {'neg': 0.0, 'neu': 0.692, 'pos': 0.308},\n",
       " {'neg': 0.0, 'neu': 0.883, 'pos': 0.117},\n",
       " {'neg': 0.0, 'neu': 1.0, 'pos': 0.0},\n",
       " {'neg': 0.136, 'neu': 0.746, 'pos': 0.118},\n",
       " {'neg': 0.0, 'neu': 1.0, 'pos': 0.0},\n",
       " {'neg': 0.0, 'neu': 1.0, 'pos': 0.0},\n",
       " {'neg': 0.0, 'neu': 1.0, 'pos': 0.0},\n",
       " {'neg': 0.0, 'neu': 0.767, 'pos': 0.233},\n",
       " {'neg': 0.087, 'neu': 0.673, 'pos': 0.239},\n",
       " {'neg': 0.0, 'neu': 1.0, 'pos': 0.0},\n",
       " {'neg': 0.0, 'neu': 1.0, 'pos': 0.0},\n",
       " {'neg': 0.0, 'neu': 0.658, 'pos': 0.342},\n",
       " {'neg': 0.0, 'neu': 0.714, 'pos': 0.286},\n",
       " {'neg': 0.146, 'neu': 0.755, 'pos': 0.099},\n",
       " {'neg': 0.0, 'neu': 1.0, 'pos': 0.0},\n",
       " {'neg': 0.179, 'neu': 0.578, 'pos': 0.243},\n",
       " {'neg': 0.072, 'neu': 0.774, 'pos': 0.154},\n",
       " {'neg': 0.0, 'neu': 0.654, 'pos': 0.346},\n",
       " {'neg': 0.0, 'neu': 0.824, 'pos': 0.176},\n",
       " {'neg': 0.112, 'neu': 0.596, 'pos': 0.292},\n",
       " {'neg': 0.113, 'neu': 0.75, 'pos': 0.137},\n",
       " {'neg': 0.0, 'neu': 0.876, 'pos': 0.124},\n",
       " {'neg': 0.107, 'neu': 0.701, 'pos': 0.192},\n",
       " {'neg': 0.0, 'neu': 1.0, 'pos': 0.0},\n",
       " {'neg': 0.093, 'neu': 0.552, 'pos': 0.355},\n",
       " {'neg': 0.0, 'neu': 0.603, 'pos': 0.397},\n",
       " {'neg': 0.0, 'neu': 0.772, 'pos': 0.228},\n",
       " {'neg': 0.074, 'neu': 0.699, 'pos': 0.227},\n",
       " {'neg': 0.165, 'neu': 0.573, 'pos': 0.262},\n",
       " {'neg': 0.0, 'neu': 0.635, 'pos': 0.365},\n",
       " {'neg': 0.0, 'neu': 0.778, 'pos': 0.222},\n",
       " {'neg': 0.0, 'neu': 0.829, 'pos': 0.171},\n",
       " {'neg': 0.113, 'neu': 0.753, 'pos': 0.134},\n",
       " {'neg': 0.0, 'neu': 0.899, 'pos': 0.101},\n",
       " {'neg': 0.0, 'neu': 1.0, 'pos': 0.0},\n",
       " {'neg': 0.087, 'neu': 0.755, 'pos': 0.158},\n",
       " {'neg': 0.0, 'neu': 0.714, 'pos': 0.286},\n",
       " {'neg': 0.0, 'neu': 1.0, 'pos': 0.0},\n",
       " {'neg': 0.0, 'neu': 1.0, 'pos': 0.0},\n",
       " {'neg': 0.147, 'neu': 0.853, 'pos': 0.0},\n",
       " {'neg': 0.0, 'neu': 1.0, 'pos': 0.0},\n",
       " {'neg': 0.0, 'neu': 0.779, 'pos': 0.221},\n",
       " {'neg': 0.0, 'neu': 0.76, 'pos': 0.24},\n",
       " {'neg': 0.0, 'neu': 0.511, 'pos': 0.489},\n",
       " {'neg': 0.172, 'neu': 0.745, 'pos': 0.083},\n",
       " {'neg': 0.0, 'neu': 0.742, 'pos': 0.258},\n",
       " {'neg': 0.198, 'neu': 0.802, 'pos': 0.0},\n",
       " {'neg': 0.0, 'neu': 0.677, 'pos': 0.323},\n",
       " {'neg': 0.0, 'neu': 1.0, 'pos': 0.0},\n",
       " {'neg': 0.256, 'neu': 0.744, 'pos': 0.0},\n",
       " {'neg': 0.05, 'neu': 0.786, 'pos': 0.165},\n",
       " {'neg': 0.0, 'neu': 0.896, 'pos': 0.104},\n",
       " {'neg': 0.176, 'neu': 0.701, 'pos': 0.124},\n",
       " {'neg': 0.108, 'neu': 0.784, 'pos': 0.108},\n",
       " {'neg': 0.335, 'neu': 0.447, 'pos': 0.218},\n",
       " {'neg': 0.0, 'neu': 0.887, 'pos': 0.113},\n",
       " {'neg': 0.181, 'neu': 0.738, 'pos': 0.081},\n",
       " {'neg': 0.168, 'neu': 0.721, 'pos': 0.111},\n",
       " {'neg': 0.0, 'neu': 0.636, 'pos': 0.364},\n",
       " {'neg': 0.0, 'neu': 0.921, 'pos': 0.079},\n",
       " {'neg': 0.167, 'neu': 0.661, 'pos': 0.171},\n",
       " {'neg': 0.0, 'neu': 1.0, 'pos': 0.0},\n",
       " {'neg': 0.065, 'neu': 0.876, 'pos': 0.06},\n",
       " {'neg': 0.131, 'neu': 0.618, 'pos': 0.251},\n",
       " {'neg': 0.0, 'neu': 0.675, 'pos': 0.325},\n",
       " {'neg': 0.134, 'neu': 0.603, 'pos': 0.263},\n",
       " {'neg': 0.0, 'neu': 0.787, 'pos': 0.213},\n",
       " {'neg': 0.0, 'neu': 0.762, 'pos': 0.238},\n",
       " {'neg': 0.121, 'neu': 0.605, 'pos': 0.274},\n",
       " {'neg': 0.095, 'neu': 0.905, 'pos': 0.0},\n",
       " {'neg': 0.0, 'neu': 0.892, 'pos': 0.108},\n",
       " {'neg': 0.0, 'neu': 0.779, 'pos': 0.221},\n",
       " {'neg': 0.0, 'neu': 0.898, 'pos': 0.102},\n",
       " {'neg': 0.12, 'neu': 0.88, 'pos': 0.0},\n",
       " {'neg': 0.275, 'neu': 0.725, 'pos': 0.0},\n",
       " {'neg': 0.165, 'neu': 0.674, 'pos': 0.16},\n",
       " {'neg': 0.231, 'neu': 0.603, 'pos': 0.166},\n",
       " {'neg': 0.228, 'neu': 0.772, 'pos': 0.0},\n",
       " {'neg': 0.0, 'neu': 1.0, 'pos': 0.0},\n",
       " {'neg': 0.0, 'neu': 1.0, 'pos': 0.0},\n",
       " {'neg': 0.108, 'neu': 0.683, 'pos': 0.209},\n",
       " {'neg': 0.157, 'neu': 0.702, 'pos': 0.14},\n",
       " {'neg': 0.0, 'neu': 1.0, 'pos': 0.0},\n",
       " {'neg': 0.15, 'neu': 0.85, 'pos': 0.0},\n",
       " {'neg': 0.0, 'neu': 0.554, 'pos': 0.446},\n",
       " {'neg': 0.102, 'neu': 0.744, 'pos': 0.153},\n",
       " {'neg': 0.083, 'neu': 0.607, 'pos': 0.31},\n",
       " {'neg': 0.062, 'neu': 0.618, 'pos': 0.32},\n",
       " {'neg': 0.105, 'neu': 0.895, 'pos': 0.0},\n",
       " {'neg': 0.042, 'neu': 0.756, 'pos': 0.202},\n",
       " {'neg': 0.0, 'neu': 0.763, 'pos': 0.237},\n",
       " {'neg': 0.094, 'neu': 0.738, 'pos': 0.168},\n",
       " {'neg': 0.0, 'neu': 0.63, 'pos': 0.37},\n",
       " {'neg': 0.0, 'neu': 0.763, 'pos': 0.237},\n",
       " {'neg': 0.0, 'neu': 1.0, 'pos': 0.0},\n",
       " {'neg': 0.0, 'neu': 0.791, 'pos': 0.209},\n",
       " {'neg': 0.0, 'neu': 1.0, 'pos': 0.0},\n",
       " {'neg': 0.053, 'neu': 0.769, 'pos': 0.178},\n",
       " {'neg': 0.0, 'neu': 0.851, 'pos': 0.149},\n",
       " {'neg': 0.0, 'neu': 0.608, 'pos': 0.392},\n",
       " {'neg': 0.0, 'neu': 0.809, 'pos': 0.191},\n",
       " {'neg': 0.148, 'neu': 0.852, 'pos': 0.0},\n",
       " {'neg': 0.085, 'neu': 0.556, 'pos': 0.359},\n",
       " {'neg': 0.0, 'neu': 0.845, 'pos': 0.155},\n",
       " {'neg': 0.156, 'neu': 0.844, 'pos': 0.0},\n",
       " {'neg': 0.198, 'neu': 0.802, 'pos': 0.0},\n",
       " {'neg': 0.0, 'neu': 0.701, 'pos': 0.299},\n",
       " {'neg': 0.0, 'neu': 0.833, 'pos': 0.167},\n",
       " {'neg': 0.0, 'neu': 1.0, 'pos': 0.0},\n",
       " {'neg': 0.0, 'neu': 1.0, 'pos': 0.0},\n",
       " {'neg': 0.127, 'neu': 0.747, 'pos': 0.125},\n",
       " {'neg': 0.097, 'neu': 0.741, 'pos': 0.162},\n",
       " {'neg': 0.269, 'neu': 0.612, 'pos': 0.118},\n",
       " {'neg': 0.0, 'neu': 1.0, 'pos': 0.0},\n",
       " {'neg': 0.0, 'neu': 0.75, 'pos': 0.25},\n",
       " {'neg': 0.0, 'neu': 0.734, 'pos': 0.266},\n",
       " {'neg': 0.091, 'neu': 0.535, 'pos': 0.374},\n",
       " {'neg': 0.0, 'neu': 0.892, 'pos': 0.108},\n",
       " {'neg': 0.0, 'neu': 0.683, 'pos': 0.317},\n",
       " {'neg': 0.195, 'neu': 0.674, 'pos': 0.13},\n",
       " {'neg': 0.274, 'neu': 0.726, 'pos': 0.0},\n",
       " {'neg': 0.0, 'neu': 0.643, 'pos': 0.357},\n",
       " {'neg': 0.158, 'neu': 0.842, 'pos': 0.0},\n",
       " {'neg': 0.0, 'neu': 0.689, 'pos': 0.311},\n",
       " {'neg': 0.148, 'neu': 0.714, 'pos': 0.138},\n",
       " {'neg': 0.0, 'neu': 0.574, 'pos': 0.426},\n",
       " {'neg': 0.0, 'neu': 0.767, 'pos': 0.233},\n",
       " {'neg': 0.0, 'neu': 1.0, 'pos': 0.0},\n",
       " {'neg': 0.0, 'neu': 0.852, 'pos': 0.148},\n",
       " {'neg': 0.0, 'neu': 0.528, 'pos': 0.472},\n",
       " {'neg': 0.0, 'neu': 0.741, 'pos': 0.259},\n",
       " {'neg': 0.106, 'neu': 0.732, 'pos': 0.163},\n",
       " {'neg': 0.089, 'neu': 0.698, 'pos': 0.213}]"
      ]
     },
     "execution_count": 99,
     "metadata": {},
     "output_type": "execute_result"
    }
   ],
   "source": [
    "bucket_data_copy['cute']"
   ]
  },
  {
   "cell_type": "code",
   "execution_count": 86,
   "id": "8f4cf2a4",
   "metadata": {},
   "outputs": [],
   "source": [
    "for key, item in bucket_data_copy.items():\n",
    "    bucket_data_copy[key] = [{k: v for k, v in d.items() if k != 'compound'} for d in bucket_data_copy[key]]\n",
    "    test_data[key] = test_data[key] + max(bucket_data_copy['not_so_cute'][0], key=bucket_data_copy['not_so_cute'][0].get)\n"
   ]
  },
  {
   "cell_type": "code",
   "execution_count": 98,
   "id": "521f1133",
   "metadata": {},
   "outputs": [
    {
     "data": {
      "text/plain": [
       "['neu',\n",
       " 'neu',\n",
       " 'neu',\n",
       " 'neu',\n",
       " 'neu',\n",
       " 'neu',\n",
       " 'neu',\n",
       " 'neu',\n",
       " 'neu',\n",
       " 'neu',\n",
       " 'neu',\n",
       " 'neu',\n",
       " 'neu',\n",
       " 'neu',\n",
       " 'neu',\n",
       " 'neu',\n",
       " 'neu',\n",
       " 'neu',\n",
       " 'neu',\n",
       " 'neu',\n",
       " 'neu',\n",
       " 'neu',\n",
       " 'neu',\n",
       " 'neu',\n",
       " 'neu',\n",
       " 'neu',\n",
       " 'neu',\n",
       " 'neu',\n",
       " 'neu',\n",
       " 'neu',\n",
       " 'neu',\n",
       " 'neu',\n",
       " 'neu',\n",
       " 'neu',\n",
       " 'neu',\n",
       " 'neu',\n",
       " 'neu',\n",
       " 'neu',\n",
       " 'neu',\n",
       " 'neu',\n",
       " 'neu',\n",
       " 'neu',\n",
       " 'neu',\n",
       " 'neu',\n",
       " 'neu',\n",
       " 'neu',\n",
       " 'neu',\n",
       " 'neu',\n",
       " 'neu',\n",
       " 'neu',\n",
       " 'neu',\n",
       " 'neu',\n",
       " 'neu',\n",
       " 'neu',\n",
       " 'neu',\n",
       " 'neu',\n",
       " 'neu',\n",
       " 'neu',\n",
       " 'neu',\n",
       " 'neu',\n",
       " 'neu',\n",
       " 'neu',\n",
       " 'neu',\n",
       " 'neu',\n",
       " 'neu',\n",
       " 'neu',\n",
       " 'neu',\n",
       " 'neu',\n",
       " 'neu',\n",
       " 'neu',\n",
       " 'neu',\n",
       " 'neu',\n",
       " 'neu',\n",
       " 'neu',\n",
       " 'neu',\n",
       " 'neu',\n",
       " 'neu',\n",
       " 'neu',\n",
       " 'neu',\n",
       " 'neu',\n",
       " 'neu',\n",
       " 'neu',\n",
       " 'neu',\n",
       " 'neu',\n",
       " 'neu',\n",
       " 'neu',\n",
       " 'neu',\n",
       " 'neu',\n",
       " 'neu',\n",
       " 'neu',\n",
       " 'neu',\n",
       " 'neu',\n",
       " 'neu',\n",
       " 'neu',\n",
       " 'neu',\n",
       " 'neu',\n",
       " 'neu',\n",
       " 'neu',\n",
       " 'neu',\n",
       " 'neu',\n",
       " 'neu',\n",
       " 'neu',\n",
       " 'neu',\n",
       " 'neu',\n",
       " 'neu',\n",
       " 'neu',\n",
       " 'neu',\n",
       " 'neu',\n",
       " 'neu',\n",
       " 'neu',\n",
       " 'neu',\n",
       " 'neu',\n",
       " 'neu',\n",
       " 'neu',\n",
       " 'neu',\n",
       " 'neu',\n",
       " 'neu',\n",
       " 'neu',\n",
       " 'neu',\n",
       " 'neu',\n",
       " 'neu',\n",
       " 'neu',\n",
       " 'neu',\n",
       " 'neu',\n",
       " 'neu',\n",
       " 'neu',\n",
       " 'neu',\n",
       " 'neu',\n",
       " 'neu',\n",
       " 'neu',\n",
       " 'neu',\n",
       " 'neu',\n",
       " 'neu',\n",
       " 'neu',\n",
       " 'neu',\n",
       " 'neu',\n",
       " 'neu',\n",
       " 'neu',\n",
       " 'neu',\n",
       " 'neu',\n",
       " 'neu',\n",
       " 'neu',\n",
       " 'neu',\n",
       " 'neu',\n",
       " 'neu',\n",
       " 'neu',\n",
       " 'neu',\n",
       " 'neu',\n",
       " 'neu',\n",
       " 'neu',\n",
       " 'neu',\n",
       " 'neu',\n",
       " 'neu',\n",
       " 'neu',\n",
       " 'neu',\n",
       " 'neu',\n",
       " 'neu',\n",
       " 'neu',\n",
       " 'neu',\n",
       " 'neu',\n",
       " 'neu',\n",
       " 'neu',\n",
       " 'pos',\n",
       " 'neu',\n",
       " 'neu',\n",
       " 'neu',\n",
       " 'neu',\n",
       " 'neu',\n",
       " 'neu',\n",
       " 'neu',\n",
       " 'neu',\n",
       " 'neu',\n",
       " 'neu',\n",
       " 'neu',\n",
       " 'neu',\n",
       " 'neu',\n",
       " 'neu',\n",
       " 'neu',\n",
       " 'neu',\n",
       " 'neu',\n",
       " 'neu',\n",
       " 'neu',\n",
       " 'neu',\n",
       " 'neu',\n",
       " 'neu',\n",
       " 'neu',\n",
       " 'neu',\n",
       " 'neu',\n",
       " 'neu',\n",
       " 'neu',\n",
       " 'neu',\n",
       " 'neu',\n",
       " 'neu',\n",
       " 'neu',\n",
       " 'neu',\n",
       " 'neu',\n",
       " 'neu',\n",
       " 'neu',\n",
       " 'neu',\n",
       " 'neu',\n",
       " 'neu',\n",
       " 'neu',\n",
       " 'neu',\n",
       " 'neu',\n",
       " 'neu',\n",
       " 'neu',\n",
       " 'neu',\n",
       " 'neu',\n",
       " 'neu',\n",
       " 'neu',\n",
       " 'neu',\n",
       " 'neu',\n",
       " 'neu',\n",
       " 'neu',\n",
       " 'neu',\n",
       " 'neu',\n",
       " 'neu',\n",
       " 'neu',\n",
       " 'neu',\n",
       " 'neu',\n",
       " 'neu',\n",
       " 'neu',\n",
       " 'neu',\n",
       " 'neu',\n",
       " 'neu',\n",
       " 'neu',\n",
       " 'neu',\n",
       " 'neu',\n",
       " 'neu',\n",
       " 'neu',\n",
       " 'neu',\n",
       " 'neu',\n",
       " 'neu',\n",
       " 'neu',\n",
       " 'neu',\n",
       " 'neu',\n",
       " 'neu',\n",
       " 'neu',\n",
       " 'neu',\n",
       " 'neu',\n",
       " 'neu',\n",
       " 'neu',\n",
       " 'neu',\n",
       " 'neu',\n",
       " 'neu',\n",
       " 'neu',\n",
       " 'neu',\n",
       " 'neu',\n",
       " 'neu',\n",
       " 'neu',\n",
       " 'neu',\n",
       " 'neu',\n",
       " 'neu',\n",
       " 'neu',\n",
       " 'neu',\n",
       " 'neu',\n",
       " 'neu',\n",
       " 'neu',\n",
       " 'neu',\n",
       " 'neu',\n",
       " 'neu',\n",
       " 'neu',\n",
       " 'neu',\n",
       " 'neu',\n",
       " 'neu',\n",
       " 'neu',\n",
       " 'neu',\n",
       " 'neu',\n",
       " 'neu',\n",
       " 'neu',\n",
       " 'neu',\n",
       " 'neu',\n",
       " 'neu',\n",
       " 'neu',\n",
       " 'neu',\n",
       " 'neu',\n",
       " 'neu',\n",
       " 'neu',\n",
       " 'neu',\n",
       " 'neu',\n",
       " 'neu',\n",
       " 'neu',\n",
       " 'neu',\n",
       " 'neu',\n",
       " 'neu',\n",
       " 'neu',\n",
       " 'neu',\n",
       " 'neu',\n",
       " 'neu',\n",
       " 'neu',\n",
       " 'neu',\n",
       " 'neu',\n",
       " 'neu',\n",
       " 'neu',\n",
       " 'neu',\n",
       " 'neu',\n",
       " 'neu',\n",
       " 'neu',\n",
       " 'neu',\n",
       " 'neu',\n",
       " 'neu',\n",
       " 'neu',\n",
       " 'neu',\n",
       " 'neu',\n",
       " 'neu',\n",
       " 'neu',\n",
       " 'neu',\n",
       " 'neu',\n",
       " 'neu',\n",
       " 'neu',\n",
       " 'neu',\n",
       " 'neu',\n",
       " 'neu',\n",
       " 'neu',\n",
       " 'neu',\n",
       " 'neu',\n",
       " 'neu',\n",
       " 'neu',\n",
       " 'neu',\n",
       " 'neu',\n",
       " 'neu',\n",
       " 'neu',\n",
       " 'neu',\n",
       " 'neu',\n",
       " 'neu',\n",
       " 'neu',\n",
       " 'neu',\n",
       " 'neu',\n",
       " 'neu',\n",
       " 'neu',\n",
       " 'neu',\n",
       " 'neu',\n",
       " 'neu',\n",
       " 'neu',\n",
       " 'neu',\n",
       " 'neu',\n",
       " 'neu',\n",
       " 'neu',\n",
       " 'neu',\n",
       " 'neu',\n",
       " 'neu',\n",
       " 'neu',\n",
       " 'neu',\n",
       " 'neu',\n",
       " 'neu',\n",
       " 'neu',\n",
       " 'neu',\n",
       " 'neu',\n",
       " 'neu',\n",
       " 'neu',\n",
       " 'neu',\n",
       " 'neu',\n",
       " 'neu',\n",
       " 'neu',\n",
       " 'neu',\n",
       " 'neu',\n",
       " 'neu',\n",
       " 'neu',\n",
       " 'neu',\n",
       " 'neu',\n",
       " 'neu',\n",
       " 'neu',\n",
       " 'neu',\n",
       " 'neu',\n",
       " 'neu',\n",
       " 'neu',\n",
       " 'neu',\n",
       " 'neu',\n",
       " 'neu',\n",
       " 'neu',\n",
       " 'neu',\n",
       " 'neu',\n",
       " 'neu',\n",
       " 'neu',\n",
       " 'neu',\n",
       " 'neu',\n",
       " 'neu',\n",
       " 'neu',\n",
       " 'neu',\n",
       " 'neu',\n",
       " 'neu',\n",
       " 'neu',\n",
       " 'neu',\n",
       " 'neu',\n",
       " 'neu',\n",
       " 'neu',\n",
       " 'neu',\n",
       " 'neu',\n",
       " 'neu',\n",
       " 'neu',\n",
       " 'neu',\n",
       " 'neu',\n",
       " 'neu',\n",
       " 'neu',\n",
       " 'neu',\n",
       " 'neu',\n",
       " 'neu',\n",
       " 'neu',\n",
       " 'neu',\n",
       " 'neu',\n",
       " 'neu',\n",
       " 'neu',\n",
       " 'neu',\n",
       " 'neu',\n",
       " 'neu',\n",
       " 'neu',\n",
       " 'neu',\n",
       " 'neu',\n",
       " 'neu',\n",
       " 'neu',\n",
       " 'neu',\n",
       " 'neu',\n",
       " 'neu',\n",
       " 'neu',\n",
       " 'neu',\n",
       " 'neu',\n",
       " 'neu',\n",
       " 'neu',\n",
       " 'neu',\n",
       " 'neu',\n",
       " 'neu',\n",
       " 'neu',\n",
       " 'neu',\n",
       " 'neu',\n",
       " 'neu',\n",
       " 'neu',\n",
       " 'neu',\n",
       " 'neu',\n",
       " 'neu',\n",
       " 'neu',\n",
       " 'neu',\n",
       " 'neu',\n",
       " 'neu',\n",
       " 'neu',\n",
       " 'neu',\n",
       " 'neu',\n",
       " 'neu',\n",
       " 'neu',\n",
       " 'neu',\n",
       " 'neu',\n",
       " 'neu',\n",
       " 'neu',\n",
       " 'neu',\n",
       " 'neu',\n",
       " 'neu',\n",
       " 'neu',\n",
       " 'neu',\n",
       " 'neu',\n",
       " 'neu',\n",
       " 'neu',\n",
       " 'neu',\n",
       " 'neu',\n",
       " 'neu',\n",
       " 'neu',\n",
       " 'neu',\n",
       " 'neu',\n",
       " 'neu',\n",
       " 'neu',\n",
       " 'neu',\n",
       " 'neu',\n",
       " 'neu',\n",
       " 'neu',\n",
       " 'neu',\n",
       " 'neu',\n",
       " 'neu',\n",
       " 'pos',\n",
       " 'neu',\n",
       " 'neu',\n",
       " 'neu',\n",
       " 'neu',\n",
       " 'neu',\n",
       " 'neu',\n",
       " 'neu',\n",
       " 'neu',\n",
       " 'neu',\n",
       " 'neu',\n",
       " 'neu',\n",
       " 'neu',\n",
       " 'neu',\n",
       " 'neu',\n",
       " 'neu',\n",
       " 'neu',\n",
       " 'neu',\n",
       " 'neu',\n",
       " 'neu',\n",
       " 'neu',\n",
       " 'neu',\n",
       " 'neu',\n",
       " 'neu',\n",
       " 'neu',\n",
       " 'neu',\n",
       " 'neu',\n",
       " 'neu',\n",
       " 'neu',\n",
       " 'neu',\n",
       " 'neu',\n",
       " 'neu',\n",
       " 'neu',\n",
       " 'neu',\n",
       " 'neu',\n",
       " 'neu',\n",
       " 'neu',\n",
       " 'neu',\n",
       " 'neu',\n",
       " 'neu',\n",
       " 'neu',\n",
       " 'neu',\n",
       " 'neu',\n",
       " 'neu',\n",
       " 'neu',\n",
       " 'neu',\n",
       " 'neu',\n",
       " 'neu',\n",
       " 'neu',\n",
       " 'neu',\n",
       " 'neu',\n",
       " 'neu',\n",
       " 'neu',\n",
       " 'neu',\n",
       " 'neu',\n",
       " 'neu',\n",
       " 'neu',\n",
       " 'neu',\n",
       " 'neu',\n",
       " 'neu',\n",
       " 'neu',\n",
       " 'neu',\n",
       " 'neu',\n",
       " 'neu',\n",
       " 'neu',\n",
       " 'neu',\n",
       " 'neu',\n",
       " 'neu',\n",
       " 'neu',\n",
       " 'neu',\n",
       " 'neu',\n",
       " 'neu',\n",
       " 'neu',\n",
       " 'neu',\n",
       " 'neu',\n",
       " 'neu',\n",
       " 'neu',\n",
       " 'neu',\n",
       " 'neu',\n",
       " 'neu',\n",
       " 'neu',\n",
       " 'neu',\n",
       " 'neu',\n",
       " 'neu',\n",
       " 'neu',\n",
       " 'neu',\n",
       " 'neu',\n",
       " 'neu',\n",
       " 'neu',\n",
       " 'neu',\n",
       " 'neu',\n",
       " 'neu',\n",
       " 'neu',\n",
       " 'neu',\n",
       " 'neu',\n",
       " 'neu',\n",
       " 'neu',\n",
       " 'neu',\n",
       " 'neu',\n",
       " 'neu',\n",
       " 'neu',\n",
       " 'neu',\n",
       " 'neu',\n",
       " 'neu',\n",
       " 'neu',\n",
       " 'neu',\n",
       " 'neu',\n",
       " 'neu',\n",
       " 'neu',\n",
       " 'neu',\n",
       " 'neu',\n",
       " 'neu',\n",
       " 'neu',\n",
       " 'neu',\n",
       " 'neu',\n",
       " 'neu',\n",
       " 'neu',\n",
       " 'neu',\n",
       " 'neu',\n",
       " 'neu',\n",
       " 'neu',\n",
       " 'neu',\n",
       " 'neu',\n",
       " 'neu',\n",
       " 'neu',\n",
       " 'neu',\n",
       " 'neu',\n",
       " 'neu',\n",
       " 'neu',\n",
       " 'neu',\n",
       " 'neu',\n",
       " 'neu',\n",
       " 'neu',\n",
       " 'neu',\n",
       " 'neu',\n",
       " 'neu',\n",
       " 'neu',\n",
       " 'neu',\n",
       " 'neu',\n",
       " 'neu',\n",
       " 'neu',\n",
       " 'neu',\n",
       " 'neu',\n",
       " 'neu',\n",
       " 'neu',\n",
       " 'neu',\n",
       " 'neu',\n",
       " 'neu',\n",
       " 'neu',\n",
       " 'neu',\n",
       " 'neu',\n",
       " 'neu',\n",
       " 'neu',\n",
       " 'neu',\n",
       " 'neu',\n",
       " 'neu',\n",
       " 'neu',\n",
       " 'neu',\n",
       " 'neu',\n",
       " 'neu',\n",
       " 'neu',\n",
       " 'neu',\n",
       " 'neu',\n",
       " 'neu',\n",
       " 'neu',\n",
       " 'neu',\n",
       " 'neu',\n",
       " 'neu',\n",
       " 'neu',\n",
       " 'neu',\n",
       " 'neu',\n",
       " 'neu',\n",
       " 'neu',\n",
       " 'neu',\n",
       " 'neu',\n",
       " 'neu',\n",
       " 'neu',\n",
       " 'neu',\n",
       " 'neu',\n",
       " 'neu',\n",
       " 'neu',\n",
       " 'neu',\n",
       " 'neu',\n",
       " 'neu',\n",
       " 'neu',\n",
       " 'neu',\n",
       " 'neu',\n",
       " 'neu',\n",
       " 'neu',\n",
       " 'neu',\n",
       " 'neu',\n",
       " 'neu',\n",
       " 'neu',\n",
       " 'neu',\n",
       " 'neu',\n",
       " 'neu',\n",
       " 'neu',\n",
       " 'neu',\n",
       " 'neu',\n",
       " 'neu',\n",
       " 'neu',\n",
       " 'neu',\n",
       " 'neu',\n",
       " 'neu',\n",
       " 'neu',\n",
       " 'neu',\n",
       " 'neu',\n",
       " 'neu',\n",
       " 'neu',\n",
       " 'neu',\n",
       " 'neu',\n",
       " 'neu',\n",
       " 'neu',\n",
       " 'neu',\n",
       " 'neu',\n",
       " 'neu',\n",
       " 'neu',\n",
       " 'neu',\n",
       " 'neu',\n",
       " 'neu',\n",
       " 'neu',\n",
       " 'neu',\n",
       " 'neu',\n",
       " 'neu',\n",
       " 'neu',\n",
       " 'neu',\n",
       " 'neu',\n",
       " 'neu',\n",
       " 'neu',\n",
       " 'neu',\n",
       " 'neu',\n",
       " 'neu',\n",
       " 'neu',\n",
       " 'neu',\n",
       " 'neu',\n",
       " 'neu',\n",
       " 'neu',\n",
       " 'neu',\n",
       " 'neu',\n",
       " 'neu',\n",
       " 'neu',\n",
       " 'neu',\n",
       " 'neu',\n",
       " 'neu',\n",
       " 'neu',\n",
       " 'neu',\n",
       " 'neu',\n",
       " 'neu',\n",
       " 'neu',\n",
       " 'neu',\n",
       " 'neu',\n",
       " 'neu',\n",
       " 'neu',\n",
       " 'neu',\n",
       " 'neu',\n",
       " 'neu',\n",
       " 'neu',\n",
       " 'neu',\n",
       " 'neu',\n",
       " 'neu',\n",
       " 'neu',\n",
       " 'neu',\n",
       " 'neu',\n",
       " 'neu',\n",
       " 'neu',\n",
       " 'neu',\n",
       " 'neu',\n",
       " 'neu',\n",
       " 'neu',\n",
       " 'neu',\n",
       " 'neu',\n",
       " 'neu',\n",
       " 'neu',\n",
       " 'neu',\n",
       " 'neu',\n",
       " 'neu',\n",
       " 'neu',\n",
       " 'neu',\n",
       " 'neu',\n",
       " 'neu',\n",
       " 'neu',\n",
       " 'neu',\n",
       " 'neu',\n",
       " 'neu',\n",
       " 'neu',\n",
       " 'neu',\n",
       " 'neu',\n",
       " 'neu',\n",
       " 'neu',\n",
       " 'neu',\n",
       " 'neu',\n",
       " 'neu',\n",
       " 'neu',\n",
       " 'neu',\n",
       " 'neu',\n",
       " 'neu',\n",
       " 'neu',\n",
       " 'neu',\n",
       " 'neu',\n",
       " 'neu',\n",
       " 'neu',\n",
       " 'neu',\n",
       " 'neu',\n",
       " 'neu',\n",
       " 'neu',\n",
       " 'neu',\n",
       " 'neu',\n",
       " 'neu',\n",
       " 'neu',\n",
       " 'neu',\n",
       " 'neu']"
      ]
     },
     "execution_count": 98,
     "metadata": {},
     "output_type": "execute_result"
    }
   ],
   "source": [
    "[max(bucket_data_copy['cute'][i], key=bucket_data_copy['cute'][i].get)\n",
    "     for i in range(len(bucket_data_copy['cute']))]\n"
   ]
  },
  {
   "cell_type": "code",
   "execution_count": 92,
   "id": "cb81106e",
   "metadata": {},
   "outputs": [
    {
     "data": {
      "text/html": [
       "<div>\n",
       "<style scoped>\n",
       "    .dataframe tbody tr th:only-of-type {\n",
       "        vertical-align: middle;\n",
       "    }\n",
       "\n",
       "    .dataframe tbody tr th {\n",
       "        vertical-align: top;\n",
       "    }\n",
       "\n",
       "    .dataframe thead th {\n",
       "        text-align: right;\n",
       "    }\n",
       "</style>\n",
       "<table border=\"1\" class=\"dataframe\">\n",
       "  <thead>\n",
       "    <tr style=\"text-align: right;\">\n",
       "      <th></th>\n",
       "      <th>neg</th>\n",
       "      <th>neu</th>\n",
       "      <th>pos</th>\n",
       "      <th>compound</th>\n",
       "      <th>rating_bucket</th>\n",
       "    </tr>\n",
       "  </thead>\n",
       "  <tbody>\n",
       "    <tr>\n",
       "      <th>0</th>\n",
       "      <td>0.106</td>\n",
       "      <td>0.894</td>\n",
       "      <td>0.000</td>\n",
       "      <td>-0.2263</td>\n",
       "      <td>not_so_cute</td>\n",
       "    </tr>\n",
       "    <tr>\n",
       "      <th>1</th>\n",
       "      <td>0.297</td>\n",
       "      <td>0.703</td>\n",
       "      <td>0.000</td>\n",
       "      <td>-0.7342</td>\n",
       "      <td>not_so_cute</td>\n",
       "    </tr>\n",
       "    <tr>\n",
       "      <th>2</th>\n",
       "      <td>0.173</td>\n",
       "      <td>0.708</td>\n",
       "      <td>0.119</td>\n",
       "      <td>-0.2960</td>\n",
       "      <td>not_so_cute</td>\n",
       "    </tr>\n",
       "    <tr>\n",
       "      <th>3</th>\n",
       "      <td>0.099</td>\n",
       "      <td>0.901</td>\n",
       "      <td>0.000</td>\n",
       "      <td>-0.3412</td>\n",
       "      <td>not_so_cute</td>\n",
       "    </tr>\n",
       "    <tr>\n",
       "      <th>4</th>\n",
       "      <td>0.060</td>\n",
       "      <td>0.812</td>\n",
       "      <td>0.128</td>\n",
       "      <td>0.3818</td>\n",
       "      <td>not_so_cute</td>\n",
       "    </tr>\n",
       "  </tbody>\n",
       "</table>\n",
       "</div>"
      ],
      "text/plain": [
       "     neg    neu    pos  compound rating_bucket\n",
       "0  0.106  0.894  0.000   -0.2263   not_so_cute\n",
       "1  0.297  0.703  0.000   -0.7342   not_so_cute\n",
       "2  0.173  0.708  0.119   -0.2960   not_so_cute\n",
       "3  0.099  0.901  0.000   -0.3412   not_so_cute\n",
       "4  0.060  0.812  0.128    0.3818   not_so_cute"
      ]
     },
     "execution_count": 92,
     "metadata": {},
     "output_type": "execute_result"
    }
   ],
   "source": [
    "df['test'] = argmax(df[''])"
   ]
  },
  {
   "cell_type": "code",
   "execution_count": 90,
   "id": "d5716b7d",
   "metadata": {},
   "outputs": [
    {
     "data": {
      "text/plain": [
       "[{'neg': 0.106, 'neu': 0.894, 'pos': 0.0},\n",
       " {'neg': 0.297, 'neu': 0.703, 'pos': 0.0},\n",
       " {'neg': 0.173, 'neu': 0.708, 'pos': 0.119},\n",
       " {'neg': 0.099, 'neu': 0.901, 'pos': 0.0},\n",
       " {'neg': 0.06, 'neu': 0.812, 'pos': 0.128},\n",
       " {'neg': 0.34, 'neu': 0.561, 'pos': 0.098},\n",
       " {'neg': 0.238, 'neu': 0.762, 'pos': 0.0},\n",
       " {'neg': 0.0, 'neu': 0.667, 'pos': 0.333},\n",
       " {'neg': 0.442, 'neu': 0.558, 'pos': 0.0},\n",
       " {'neg': 0.166, 'neu': 0.834, 'pos': 0.0},\n",
       " {'neg': 0.102, 'neu': 0.776, 'pos': 0.122},\n",
       " {'neg': 0.202, 'neu': 0.588, 'pos': 0.21},\n",
       " {'neg': 0.461, 'neu': 0.539, 'pos': 0.0},\n",
       " {'neg': 0.222, 'neu': 0.667, 'pos': 0.111},\n",
       " {'neg': 0.0, 'neu': 0.747, 'pos': 0.253},\n",
       " {'neg': 0.0, 'neu': 0.826, 'pos': 0.174},\n",
       " {'neg': 0.238, 'neu': 0.634, 'pos': 0.129},\n",
       " {'neg': 0.192, 'neu': 0.712, 'pos': 0.096},\n",
       " {'neg': 0.0, 'neu': 0.773, 'pos': 0.227},\n",
       " {'neg': 0.128, 'neu': 0.684, 'pos': 0.188},\n",
       " {'neg': 0.269, 'neu': 0.533, 'pos': 0.198},\n",
       " {'neg': 0.32, 'neu': 0.68, 'pos': 0.0},\n",
       " {'neg': 0.118, 'neu': 0.882, 'pos': 0.0},\n",
       " {'neg': 0.352, 'neu': 0.648, 'pos': 0.0},\n",
       " {'neg': 0.0, 'neu': 0.795, 'pos': 0.205},\n",
       " {'neg': 0.0, 'neu': 0.859, 'pos': 0.141},\n",
       " {'neg': 0.109, 'neu': 0.726, 'pos': 0.165},\n",
       " {'neg': 0.153, 'neu': 0.847, 'pos': 0.0},\n",
       " {'neg': 0.165, 'neu': 0.835, 'pos': 0.0},\n",
       " {'neg': 0.109, 'neu': 0.712, 'pos': 0.18},\n",
       " {'neg': 0.0, 'neu': 0.839, 'pos': 0.161},\n",
       " {'neg': 0.0, 'neu': 0.64, 'pos': 0.36},\n",
       " {'neg': 0.129, 'neu': 0.773, 'pos': 0.099},\n",
       " {'neg': 0.145, 'neu': 0.797, 'pos': 0.058},\n",
       " {'neg': 0.134, 'neu': 0.866, 'pos': 0.0},\n",
       " {'neg': 0.0, 'neu': 1.0, 'pos': 0.0},\n",
       " {'neg': 0.215, 'neu': 0.716, 'pos': 0.069},\n",
       " {'neg': 0.286, 'neu': 0.714, 'pos': 0.0},\n",
       " {'neg': 0.057, 'neu': 0.85, 'pos': 0.093},\n",
       " {'neg': 0.271, 'neu': 0.729, 'pos': 0.0},\n",
       " {'neg': 0.156, 'neu': 0.844, 'pos': 0.0},\n",
       " {'neg': 0.163, 'neu': 0.598, 'pos': 0.239},\n",
       " {'neg': 0.097, 'neu': 0.719, 'pos': 0.184},\n",
       " {'neg': 0.0, 'neu': 0.874, 'pos': 0.126},\n",
       " {'neg': 0.199, 'neu': 0.664, 'pos': 0.137},\n",
       " {'neg': 0.0, 'neu': 1.0, 'pos': 0.0},\n",
       " {'neg': 0.305, 'neu': 0.695, 'pos': 0.0},\n",
       " {'neg': 0.093, 'neu': 0.907, 'pos': 0.0},\n",
       " {'neg': 0.129, 'neu': 0.747, 'pos': 0.124},\n",
       " {'neg': 0.0, 'neu': 0.873, 'pos': 0.127},\n",
       " {'neg': 0.162, 'neu': 0.543, 'pos': 0.295},\n",
       " {'neg': 0.131, 'neu': 0.728, 'pos': 0.141},\n",
       " {'neg': 0.226, 'neu': 0.667, 'pos': 0.107},\n",
       " {'neg': 0.0, 'neu': 0.812, 'pos': 0.188},\n",
       " {'neg': 0.324, 'neu': 0.676, 'pos': 0.0},\n",
       " {'neg': 0.221, 'neu': 0.494, 'pos': 0.285}]"
      ]
     },
     "execution_count": 90,
     "metadata": {},
     "output_type": "execute_result"
    }
   ],
   "source": [
    "bucket_data_copy['not_so_cute']"
   ]
  },
  {
   "cell_type": "code",
   "execution_count": 70,
   "id": "cd6a1849",
   "metadata": {},
   "outputs": [],
   "source": [
    "import plotly.graph_objects as go\n",
    "from plotly.subplots import make_subplots\n"
   ]
  },
  {
   "cell_type": "code",
   "execution_count": 100,
   "id": "cc24dd66",
   "metadata": {},
   "outputs": [
    {
     "data": {
      "application/vnd.plotly.v1+json": {
       "config": {
        "plotlyServerURL": "https://plot.ly"
       },
       "data": [
        {
         "alignmentgroup": "True",
         "bingroup": "x",
         "hovertemplate": "variable=neu<br>value=%{x}<br>count=%{y}<extra></extra>",
         "legendgroup": "neu",
         "marker": {
          "color": "#636efa",
          "pattern": {
           "shape": ""
          }
         },
         "name": "neu",
         "offsetgroup": "neu",
         "orientation": "v",
         "showlegend": true,
         "type": "histogram",
         "x": [
          0.894,
          0.703,
          0.708,
          0.901,
          0.812,
          0.561,
          0.762,
          0.667,
          0.558,
          0.834,
          0.776,
          0.588,
          0.539,
          0.667,
          0.747,
          0.826,
          0.634,
          0.712,
          0.773,
          0.684,
          0.533,
          0.68,
          0.882,
          0.648,
          0.795,
          0.859,
          0.726,
          0.847,
          0.835,
          0.712,
          0.839,
          0.64,
          0.773,
          0.797,
          0.866,
          1,
          0.716,
          0.714,
          0.85,
          0.729,
          0.844,
          0.598,
          0.719,
          0.874,
          0.664,
          1,
          0.695,
          0.907,
          0.747,
          0.873,
          0.543,
          0.728,
          0.667,
          0.812,
          0.676,
          0.494
         ],
         "xaxis": "x",
         "yaxis": "y"
        },
        {
         "alignmentgroup": "True",
         "bingroup": "x",
         "hovertemplate": "variable=pos<br>value=%{x}<br>count=%{y}<extra></extra>",
         "legendgroup": "pos",
         "marker": {
          "color": "#EF553B",
          "pattern": {
           "shape": ""
          }
         },
         "name": "pos",
         "offsetgroup": "pos",
         "orientation": "v",
         "showlegend": true,
         "type": "histogram",
         "x": [
          0,
          0,
          0.119,
          0,
          0.128,
          0.098,
          0,
          0.333,
          0,
          0,
          0.122,
          0.21,
          0,
          0.111,
          0.253,
          0.174,
          0.129,
          0.096,
          0.227,
          0.188,
          0.198,
          0,
          0,
          0,
          0.205,
          0.141,
          0.165,
          0,
          0,
          0.18,
          0.161,
          0.36,
          0.099,
          0.058,
          0,
          0,
          0.069,
          0,
          0.093,
          0,
          0,
          0.239,
          0.184,
          0.126,
          0.137,
          0,
          0,
          0,
          0.124,
          0.127,
          0.295,
          0.141,
          0.107,
          0.188,
          0,
          0.285
         ],
         "xaxis": "x",
         "yaxis": "y"
        },
        {
         "alignmentgroup": "True",
         "bingroup": "x",
         "hovertemplate": "variable=neg<br>value=%{x}<br>count=%{y}<extra></extra>",
         "legendgroup": "neg",
         "marker": {
          "color": "#00cc96",
          "pattern": {
           "shape": ""
          }
         },
         "name": "neg",
         "offsetgroup": "neg",
         "orientation": "v",
         "showlegend": true,
         "type": "histogram",
         "x": [
          0.106,
          0.297,
          0.173,
          0.099,
          0.06,
          0.34,
          0.238,
          0,
          0.442,
          0.166,
          0.102,
          0.202,
          0.461,
          0.222,
          0,
          0,
          0.238,
          0.192,
          0,
          0.128,
          0.269,
          0.32,
          0.118,
          0.352,
          0,
          0,
          0.109,
          0.153,
          0.165,
          0.109,
          0,
          0,
          0.129,
          0.145,
          0.134,
          0,
          0.215,
          0.286,
          0.057,
          0.271,
          0.156,
          0.163,
          0.097,
          0,
          0.199,
          0,
          0.305,
          0.093,
          0.129,
          0,
          0.162,
          0.131,
          0.226,
          0,
          0.324,
          0.221
         ],
         "xaxis": "x",
         "yaxis": "y"
        }
       ],
       "layout": {
        "barmode": "relative",
        "legend": {
         "title": {
          "text": "variable"
         },
         "tracegroupgap": 0
        },
        "template": {
         "data": {
          "bar": [
           {
            "error_x": {
             "color": "#2a3f5f"
            },
            "error_y": {
             "color": "#2a3f5f"
            },
            "marker": {
             "line": {
              "color": "#E5ECF6",
              "width": 0.5
             },
             "pattern": {
              "fillmode": "overlay",
              "size": 10,
              "solidity": 0.2
             }
            },
            "type": "bar"
           }
          ],
          "barpolar": [
           {
            "marker": {
             "line": {
              "color": "#E5ECF6",
              "width": 0.5
             },
             "pattern": {
              "fillmode": "overlay",
              "size": 10,
              "solidity": 0.2
             }
            },
            "type": "barpolar"
           }
          ],
          "carpet": [
           {
            "aaxis": {
             "endlinecolor": "#2a3f5f",
             "gridcolor": "white",
             "linecolor": "white",
             "minorgridcolor": "white",
             "startlinecolor": "#2a3f5f"
            },
            "baxis": {
             "endlinecolor": "#2a3f5f",
             "gridcolor": "white",
             "linecolor": "white",
             "minorgridcolor": "white",
             "startlinecolor": "#2a3f5f"
            },
            "type": "carpet"
           }
          ],
          "choropleth": [
           {
            "colorbar": {
             "outlinewidth": 0,
             "ticks": ""
            },
            "type": "choropleth"
           }
          ],
          "contour": [
           {
            "colorbar": {
             "outlinewidth": 0,
             "ticks": ""
            },
            "colorscale": [
             [
              0,
              "#0d0887"
             ],
             [
              0.1111111111111111,
              "#46039f"
             ],
             [
              0.2222222222222222,
              "#7201a8"
             ],
             [
              0.3333333333333333,
              "#9c179e"
             ],
             [
              0.4444444444444444,
              "#bd3786"
             ],
             [
              0.5555555555555556,
              "#d8576b"
             ],
             [
              0.6666666666666666,
              "#ed7953"
             ],
             [
              0.7777777777777778,
              "#fb9f3a"
             ],
             [
              0.8888888888888888,
              "#fdca26"
             ],
             [
              1,
              "#f0f921"
             ]
            ],
            "type": "contour"
           }
          ],
          "contourcarpet": [
           {
            "colorbar": {
             "outlinewidth": 0,
             "ticks": ""
            },
            "type": "contourcarpet"
           }
          ],
          "heatmap": [
           {
            "colorbar": {
             "outlinewidth": 0,
             "ticks": ""
            },
            "colorscale": [
             [
              0,
              "#0d0887"
             ],
             [
              0.1111111111111111,
              "#46039f"
             ],
             [
              0.2222222222222222,
              "#7201a8"
             ],
             [
              0.3333333333333333,
              "#9c179e"
             ],
             [
              0.4444444444444444,
              "#bd3786"
             ],
             [
              0.5555555555555556,
              "#d8576b"
             ],
             [
              0.6666666666666666,
              "#ed7953"
             ],
             [
              0.7777777777777778,
              "#fb9f3a"
             ],
             [
              0.8888888888888888,
              "#fdca26"
             ],
             [
              1,
              "#f0f921"
             ]
            ],
            "type": "heatmap"
           }
          ],
          "heatmapgl": [
           {
            "colorbar": {
             "outlinewidth": 0,
             "ticks": ""
            },
            "colorscale": [
             [
              0,
              "#0d0887"
             ],
             [
              0.1111111111111111,
              "#46039f"
             ],
             [
              0.2222222222222222,
              "#7201a8"
             ],
             [
              0.3333333333333333,
              "#9c179e"
             ],
             [
              0.4444444444444444,
              "#bd3786"
             ],
             [
              0.5555555555555556,
              "#d8576b"
             ],
             [
              0.6666666666666666,
              "#ed7953"
             ],
             [
              0.7777777777777778,
              "#fb9f3a"
             ],
             [
              0.8888888888888888,
              "#fdca26"
             ],
             [
              1,
              "#f0f921"
             ]
            ],
            "type": "heatmapgl"
           }
          ],
          "histogram": [
           {
            "marker": {
             "pattern": {
              "fillmode": "overlay",
              "size": 10,
              "solidity": 0.2
             }
            },
            "type": "histogram"
           }
          ],
          "histogram2d": [
           {
            "colorbar": {
             "outlinewidth": 0,
             "ticks": ""
            },
            "colorscale": [
             [
              0,
              "#0d0887"
             ],
             [
              0.1111111111111111,
              "#46039f"
             ],
             [
              0.2222222222222222,
              "#7201a8"
             ],
             [
              0.3333333333333333,
              "#9c179e"
             ],
             [
              0.4444444444444444,
              "#bd3786"
             ],
             [
              0.5555555555555556,
              "#d8576b"
             ],
             [
              0.6666666666666666,
              "#ed7953"
             ],
             [
              0.7777777777777778,
              "#fb9f3a"
             ],
             [
              0.8888888888888888,
              "#fdca26"
             ],
             [
              1,
              "#f0f921"
             ]
            ],
            "type": "histogram2d"
           }
          ],
          "histogram2dcontour": [
           {
            "colorbar": {
             "outlinewidth": 0,
             "ticks": ""
            },
            "colorscale": [
             [
              0,
              "#0d0887"
             ],
             [
              0.1111111111111111,
              "#46039f"
             ],
             [
              0.2222222222222222,
              "#7201a8"
             ],
             [
              0.3333333333333333,
              "#9c179e"
             ],
             [
              0.4444444444444444,
              "#bd3786"
             ],
             [
              0.5555555555555556,
              "#d8576b"
             ],
             [
              0.6666666666666666,
              "#ed7953"
             ],
             [
              0.7777777777777778,
              "#fb9f3a"
             ],
             [
              0.8888888888888888,
              "#fdca26"
             ],
             [
              1,
              "#f0f921"
             ]
            ],
            "type": "histogram2dcontour"
           }
          ],
          "mesh3d": [
           {
            "colorbar": {
             "outlinewidth": 0,
             "ticks": ""
            },
            "type": "mesh3d"
           }
          ],
          "parcoords": [
           {
            "line": {
             "colorbar": {
              "outlinewidth": 0,
              "ticks": ""
             }
            },
            "type": "parcoords"
           }
          ],
          "pie": [
           {
            "automargin": true,
            "type": "pie"
           }
          ],
          "scatter": [
           {
            "marker": {
             "colorbar": {
              "outlinewidth": 0,
              "ticks": ""
             }
            },
            "type": "scatter"
           }
          ],
          "scatter3d": [
           {
            "line": {
             "colorbar": {
              "outlinewidth": 0,
              "ticks": ""
             }
            },
            "marker": {
             "colorbar": {
              "outlinewidth": 0,
              "ticks": ""
             }
            },
            "type": "scatter3d"
           }
          ],
          "scattercarpet": [
           {
            "marker": {
             "colorbar": {
              "outlinewidth": 0,
              "ticks": ""
             }
            },
            "type": "scattercarpet"
           }
          ],
          "scattergeo": [
           {
            "marker": {
             "colorbar": {
              "outlinewidth": 0,
              "ticks": ""
             }
            },
            "type": "scattergeo"
           }
          ],
          "scattergl": [
           {
            "marker": {
             "colorbar": {
              "outlinewidth": 0,
              "ticks": ""
             }
            },
            "type": "scattergl"
           }
          ],
          "scattermapbox": [
           {
            "marker": {
             "colorbar": {
              "outlinewidth": 0,
              "ticks": ""
             }
            },
            "type": "scattermapbox"
           }
          ],
          "scatterpolar": [
           {
            "marker": {
             "colorbar": {
              "outlinewidth": 0,
              "ticks": ""
             }
            },
            "type": "scatterpolar"
           }
          ],
          "scatterpolargl": [
           {
            "marker": {
             "colorbar": {
              "outlinewidth": 0,
              "ticks": ""
             }
            },
            "type": "scatterpolargl"
           }
          ],
          "scatterternary": [
           {
            "marker": {
             "colorbar": {
              "outlinewidth": 0,
              "ticks": ""
             }
            },
            "type": "scatterternary"
           }
          ],
          "surface": [
           {
            "colorbar": {
             "outlinewidth": 0,
             "ticks": ""
            },
            "colorscale": [
             [
              0,
              "#0d0887"
             ],
             [
              0.1111111111111111,
              "#46039f"
             ],
             [
              0.2222222222222222,
              "#7201a8"
             ],
             [
              0.3333333333333333,
              "#9c179e"
             ],
             [
              0.4444444444444444,
              "#bd3786"
             ],
             [
              0.5555555555555556,
              "#d8576b"
             ],
             [
              0.6666666666666666,
              "#ed7953"
             ],
             [
              0.7777777777777778,
              "#fb9f3a"
             ],
             [
              0.8888888888888888,
              "#fdca26"
             ],
             [
              1,
              "#f0f921"
             ]
            ],
            "type": "surface"
           }
          ],
          "table": [
           {
            "cells": {
             "fill": {
              "color": "#EBF0F8"
             },
             "line": {
              "color": "white"
             }
            },
            "header": {
             "fill": {
              "color": "#C8D4E3"
             },
             "line": {
              "color": "white"
             }
            },
            "type": "table"
           }
          ]
         },
         "layout": {
          "annotationdefaults": {
           "arrowcolor": "#2a3f5f",
           "arrowhead": 0,
           "arrowwidth": 1
          },
          "autotypenumbers": "strict",
          "coloraxis": {
           "colorbar": {
            "outlinewidth": 0,
            "ticks": ""
           }
          },
          "colorscale": {
           "diverging": [
            [
             0,
             "#8e0152"
            ],
            [
             0.1,
             "#c51b7d"
            ],
            [
             0.2,
             "#de77ae"
            ],
            [
             0.3,
             "#f1b6da"
            ],
            [
             0.4,
             "#fde0ef"
            ],
            [
             0.5,
             "#f7f7f7"
            ],
            [
             0.6,
             "#e6f5d0"
            ],
            [
             0.7,
             "#b8e186"
            ],
            [
             0.8,
             "#7fbc41"
            ],
            [
             0.9,
             "#4d9221"
            ],
            [
             1,
             "#276419"
            ]
           ],
           "sequential": [
            [
             0,
             "#0d0887"
            ],
            [
             0.1111111111111111,
             "#46039f"
            ],
            [
             0.2222222222222222,
             "#7201a8"
            ],
            [
             0.3333333333333333,
             "#9c179e"
            ],
            [
             0.4444444444444444,
             "#bd3786"
            ],
            [
             0.5555555555555556,
             "#d8576b"
            ],
            [
             0.6666666666666666,
             "#ed7953"
            ],
            [
             0.7777777777777778,
             "#fb9f3a"
            ],
            [
             0.8888888888888888,
             "#fdca26"
            ],
            [
             1,
             "#f0f921"
            ]
           ],
           "sequentialminus": [
            [
             0,
             "#0d0887"
            ],
            [
             0.1111111111111111,
             "#46039f"
            ],
            [
             0.2222222222222222,
             "#7201a8"
            ],
            [
             0.3333333333333333,
             "#9c179e"
            ],
            [
             0.4444444444444444,
             "#bd3786"
            ],
            [
             0.5555555555555556,
             "#d8576b"
            ],
            [
             0.6666666666666666,
             "#ed7953"
            ],
            [
             0.7777777777777778,
             "#fb9f3a"
            ],
            [
             0.8888888888888888,
             "#fdca26"
            ],
            [
             1,
             "#f0f921"
            ]
           ]
          },
          "colorway": [
           "#636efa",
           "#EF553B",
           "#00cc96",
           "#ab63fa",
           "#FFA15A",
           "#19d3f3",
           "#FF6692",
           "#B6E880",
           "#FF97FF",
           "#FECB52"
          ],
          "font": {
           "color": "#2a3f5f"
          },
          "geo": {
           "bgcolor": "white",
           "lakecolor": "white",
           "landcolor": "#E5ECF6",
           "showlakes": true,
           "showland": true,
           "subunitcolor": "white"
          },
          "hoverlabel": {
           "align": "left"
          },
          "hovermode": "closest",
          "mapbox": {
           "style": "light"
          },
          "paper_bgcolor": "white",
          "plot_bgcolor": "#E5ECF6",
          "polar": {
           "angularaxis": {
            "gridcolor": "white",
            "linecolor": "white",
            "ticks": ""
           },
           "bgcolor": "#E5ECF6",
           "radialaxis": {
            "gridcolor": "white",
            "linecolor": "white",
            "ticks": ""
           }
          },
          "scene": {
           "xaxis": {
            "backgroundcolor": "#E5ECF6",
            "gridcolor": "white",
            "gridwidth": 2,
            "linecolor": "white",
            "showbackground": true,
            "ticks": "",
            "zerolinecolor": "white"
           },
           "yaxis": {
            "backgroundcolor": "#E5ECF6",
            "gridcolor": "white",
            "gridwidth": 2,
            "linecolor": "white",
            "showbackground": true,
            "ticks": "",
            "zerolinecolor": "white"
           },
           "zaxis": {
            "backgroundcolor": "#E5ECF6",
            "gridcolor": "white",
            "gridwidth": 2,
            "linecolor": "white",
            "showbackground": true,
            "ticks": "",
            "zerolinecolor": "white"
           }
          },
          "shapedefaults": {
           "line": {
            "color": "#2a3f5f"
           }
          },
          "ternary": {
           "aaxis": {
            "gridcolor": "white",
            "linecolor": "white",
            "ticks": ""
           },
           "baxis": {
            "gridcolor": "white",
            "linecolor": "white",
            "ticks": ""
           },
           "bgcolor": "#E5ECF6",
           "caxis": {
            "gridcolor": "white",
            "linecolor": "white",
            "ticks": ""
           }
          },
          "title": {
           "x": 0.05
          },
          "xaxis": {
           "automargin": true,
           "gridcolor": "white",
           "linecolor": "white",
           "ticks": "",
           "title": {
            "standoff": 15
           },
           "zerolinecolor": "white",
           "zerolinewidth": 2
          },
          "yaxis": {
           "automargin": true,
           "gridcolor": "white",
           "linecolor": "white",
           "ticks": "",
           "title": {
            "standoff": 15
           },
           "zerolinecolor": "white",
           "zerolinewidth": 2
          }
         }
        },
        "title": {
         "text": "Sentiment Analysis Distribution for Low Rating Dogs"
        },
        "xaxis": {
         "anchor": "y",
         "domain": [
          0,
          1
         ],
         "title": {
          "text": "value"
         }
        },
        "yaxis": {
         "anchor": "x",
         "domain": [
          0,
          1
         ],
         "title": {
          "text": "count"
         }
        }
       }
      },
      "text/html": [
       "<div>                            <div id=\"00135ae4-8ff1-437e-9e4d-965bac49e5ad\" class=\"plotly-graph-div\" style=\"height:525px; width:100%;\"></div>            <script type=\"text/javascript\">                require([\"plotly\"], function(Plotly) {                    window.PLOTLYENV=window.PLOTLYENV || {};                                    if (document.getElementById(\"00135ae4-8ff1-437e-9e4d-965bac49e5ad\")) {                    Plotly.newPlot(                        \"00135ae4-8ff1-437e-9e4d-965bac49e5ad\",                        [{\"alignmentgroup\":\"True\",\"bingroup\":\"x\",\"hovertemplate\":\"variable=neu<br>value=%{x}<br>count=%{y}<extra></extra>\",\"legendgroup\":\"neu\",\"marker\":{\"color\":\"#636efa\",\"pattern\":{\"shape\":\"\"}},\"name\":\"neu\",\"offsetgroup\":\"neu\",\"orientation\":\"v\",\"showlegend\":true,\"x\":[0.894,0.703,0.708,0.901,0.812,0.561,0.762,0.667,0.558,0.834,0.776,0.588,0.539,0.667,0.747,0.826,0.634,0.712,0.773,0.684,0.533,0.68,0.882,0.648,0.795,0.859,0.726,0.847,0.835,0.712,0.839,0.64,0.773,0.797,0.866,1.0,0.716,0.714,0.85,0.729,0.844,0.598,0.719,0.874,0.664,1.0,0.695,0.907,0.747,0.873,0.543,0.728,0.667,0.812,0.676,0.494],\"xaxis\":\"x\",\"yaxis\":\"y\",\"type\":\"histogram\"},{\"alignmentgroup\":\"True\",\"bingroup\":\"x\",\"hovertemplate\":\"variable=pos<br>value=%{x}<br>count=%{y}<extra></extra>\",\"legendgroup\":\"pos\",\"marker\":{\"color\":\"#EF553B\",\"pattern\":{\"shape\":\"\"}},\"name\":\"pos\",\"offsetgroup\":\"pos\",\"orientation\":\"v\",\"showlegend\":true,\"x\":[0.0,0.0,0.119,0.0,0.128,0.098,0.0,0.333,0.0,0.0,0.122,0.21,0.0,0.111,0.253,0.174,0.129,0.096,0.227,0.188,0.198,0.0,0.0,0.0,0.205,0.141,0.165,0.0,0.0,0.18,0.161,0.36,0.099,0.058,0.0,0.0,0.069,0.0,0.093,0.0,0.0,0.239,0.184,0.126,0.137,0.0,0.0,0.0,0.124,0.127,0.295,0.141,0.107,0.188,0.0,0.285],\"xaxis\":\"x\",\"yaxis\":\"y\",\"type\":\"histogram\"},{\"alignmentgroup\":\"True\",\"bingroup\":\"x\",\"hovertemplate\":\"variable=neg<br>value=%{x}<br>count=%{y}<extra></extra>\",\"legendgroup\":\"neg\",\"marker\":{\"color\":\"#00cc96\",\"pattern\":{\"shape\":\"\"}},\"name\":\"neg\",\"offsetgroup\":\"neg\",\"orientation\":\"v\",\"showlegend\":true,\"x\":[0.106,0.297,0.173,0.099,0.06,0.34,0.238,0.0,0.442,0.166,0.102,0.202,0.461,0.222,0.0,0.0,0.238,0.192,0.0,0.128,0.269,0.32,0.118,0.352,0.0,0.0,0.109,0.153,0.165,0.109,0.0,0.0,0.129,0.145,0.134,0.0,0.215,0.286,0.057,0.271,0.156,0.163,0.097,0.0,0.199,0.0,0.305,0.093,0.129,0.0,0.162,0.131,0.226,0.0,0.324,0.221],\"xaxis\":\"x\",\"yaxis\":\"y\",\"type\":\"histogram\"}],                        {\"template\":{\"data\":{\"bar\":[{\"error_x\":{\"color\":\"#2a3f5f\"},\"error_y\":{\"color\":\"#2a3f5f\"},\"marker\":{\"line\":{\"color\":\"#E5ECF6\",\"width\":0.5},\"pattern\":{\"fillmode\":\"overlay\",\"size\":10,\"solidity\":0.2}},\"type\":\"bar\"}],\"barpolar\":[{\"marker\":{\"line\":{\"color\":\"#E5ECF6\",\"width\":0.5},\"pattern\":{\"fillmode\":\"overlay\",\"size\":10,\"solidity\":0.2}},\"type\":\"barpolar\"}],\"carpet\":[{\"aaxis\":{\"endlinecolor\":\"#2a3f5f\",\"gridcolor\":\"white\",\"linecolor\":\"white\",\"minorgridcolor\":\"white\",\"startlinecolor\":\"#2a3f5f\"},\"baxis\":{\"endlinecolor\":\"#2a3f5f\",\"gridcolor\":\"white\",\"linecolor\":\"white\",\"minorgridcolor\":\"white\",\"startlinecolor\":\"#2a3f5f\"},\"type\":\"carpet\"}],\"choropleth\":[{\"colorbar\":{\"outlinewidth\":0,\"ticks\":\"\"},\"type\":\"choropleth\"}],\"contour\":[{\"colorbar\":{\"outlinewidth\":0,\"ticks\":\"\"},\"colorscale\":[[0.0,\"#0d0887\"],[0.1111111111111111,\"#46039f\"],[0.2222222222222222,\"#7201a8\"],[0.3333333333333333,\"#9c179e\"],[0.4444444444444444,\"#bd3786\"],[0.5555555555555556,\"#d8576b\"],[0.6666666666666666,\"#ed7953\"],[0.7777777777777778,\"#fb9f3a\"],[0.8888888888888888,\"#fdca26\"],[1.0,\"#f0f921\"]],\"type\":\"contour\"}],\"contourcarpet\":[{\"colorbar\":{\"outlinewidth\":0,\"ticks\":\"\"},\"type\":\"contourcarpet\"}],\"heatmap\":[{\"colorbar\":{\"outlinewidth\":0,\"ticks\":\"\"},\"colorscale\":[[0.0,\"#0d0887\"],[0.1111111111111111,\"#46039f\"],[0.2222222222222222,\"#7201a8\"],[0.3333333333333333,\"#9c179e\"],[0.4444444444444444,\"#bd3786\"],[0.5555555555555556,\"#d8576b\"],[0.6666666666666666,\"#ed7953\"],[0.7777777777777778,\"#fb9f3a\"],[0.8888888888888888,\"#fdca26\"],[1.0,\"#f0f921\"]],\"type\":\"heatmap\"}],\"heatmapgl\":[{\"colorbar\":{\"outlinewidth\":0,\"ticks\":\"\"},\"colorscale\":[[0.0,\"#0d0887\"],[0.1111111111111111,\"#46039f\"],[0.2222222222222222,\"#7201a8\"],[0.3333333333333333,\"#9c179e\"],[0.4444444444444444,\"#bd3786\"],[0.5555555555555556,\"#d8576b\"],[0.6666666666666666,\"#ed7953\"],[0.7777777777777778,\"#fb9f3a\"],[0.8888888888888888,\"#fdca26\"],[1.0,\"#f0f921\"]],\"type\":\"heatmapgl\"}],\"histogram\":[{\"marker\":{\"pattern\":{\"fillmode\":\"overlay\",\"size\":10,\"solidity\":0.2}},\"type\":\"histogram\"}],\"histogram2d\":[{\"colorbar\":{\"outlinewidth\":0,\"ticks\":\"\"},\"colorscale\":[[0.0,\"#0d0887\"],[0.1111111111111111,\"#46039f\"],[0.2222222222222222,\"#7201a8\"],[0.3333333333333333,\"#9c179e\"],[0.4444444444444444,\"#bd3786\"],[0.5555555555555556,\"#d8576b\"],[0.6666666666666666,\"#ed7953\"],[0.7777777777777778,\"#fb9f3a\"],[0.8888888888888888,\"#fdca26\"],[1.0,\"#f0f921\"]],\"type\":\"histogram2d\"}],\"histogram2dcontour\":[{\"colorbar\":{\"outlinewidth\":0,\"ticks\":\"\"},\"colorscale\":[[0.0,\"#0d0887\"],[0.1111111111111111,\"#46039f\"],[0.2222222222222222,\"#7201a8\"],[0.3333333333333333,\"#9c179e\"],[0.4444444444444444,\"#bd3786\"],[0.5555555555555556,\"#d8576b\"],[0.6666666666666666,\"#ed7953\"],[0.7777777777777778,\"#fb9f3a\"],[0.8888888888888888,\"#fdca26\"],[1.0,\"#f0f921\"]],\"type\":\"histogram2dcontour\"}],\"mesh3d\":[{\"colorbar\":{\"outlinewidth\":0,\"ticks\":\"\"},\"type\":\"mesh3d\"}],\"parcoords\":[{\"line\":{\"colorbar\":{\"outlinewidth\":0,\"ticks\":\"\"}},\"type\":\"parcoords\"}],\"pie\":[{\"automargin\":true,\"type\":\"pie\"}],\"scatter\":[{\"marker\":{\"colorbar\":{\"outlinewidth\":0,\"ticks\":\"\"}},\"type\":\"scatter\"}],\"scatter3d\":[{\"line\":{\"colorbar\":{\"outlinewidth\":0,\"ticks\":\"\"}},\"marker\":{\"colorbar\":{\"outlinewidth\":0,\"ticks\":\"\"}},\"type\":\"scatter3d\"}],\"scattercarpet\":[{\"marker\":{\"colorbar\":{\"outlinewidth\":0,\"ticks\":\"\"}},\"type\":\"scattercarpet\"}],\"scattergeo\":[{\"marker\":{\"colorbar\":{\"outlinewidth\":0,\"ticks\":\"\"}},\"type\":\"scattergeo\"}],\"scattergl\":[{\"marker\":{\"colorbar\":{\"outlinewidth\":0,\"ticks\":\"\"}},\"type\":\"scattergl\"}],\"scattermapbox\":[{\"marker\":{\"colorbar\":{\"outlinewidth\":0,\"ticks\":\"\"}},\"type\":\"scattermapbox\"}],\"scatterpolar\":[{\"marker\":{\"colorbar\":{\"outlinewidth\":0,\"ticks\":\"\"}},\"type\":\"scatterpolar\"}],\"scatterpolargl\":[{\"marker\":{\"colorbar\":{\"outlinewidth\":0,\"ticks\":\"\"}},\"type\":\"scatterpolargl\"}],\"scatterternary\":[{\"marker\":{\"colorbar\":{\"outlinewidth\":0,\"ticks\":\"\"}},\"type\":\"scatterternary\"}],\"surface\":[{\"colorbar\":{\"outlinewidth\":0,\"ticks\":\"\"},\"colorscale\":[[0.0,\"#0d0887\"],[0.1111111111111111,\"#46039f\"],[0.2222222222222222,\"#7201a8\"],[0.3333333333333333,\"#9c179e\"],[0.4444444444444444,\"#bd3786\"],[0.5555555555555556,\"#d8576b\"],[0.6666666666666666,\"#ed7953\"],[0.7777777777777778,\"#fb9f3a\"],[0.8888888888888888,\"#fdca26\"],[1.0,\"#f0f921\"]],\"type\":\"surface\"}],\"table\":[{\"cells\":{\"fill\":{\"color\":\"#EBF0F8\"},\"line\":{\"color\":\"white\"}},\"header\":{\"fill\":{\"color\":\"#C8D4E3\"},\"line\":{\"color\":\"white\"}},\"type\":\"table\"}]},\"layout\":{\"annotationdefaults\":{\"arrowcolor\":\"#2a3f5f\",\"arrowhead\":0,\"arrowwidth\":1},\"autotypenumbers\":\"strict\",\"coloraxis\":{\"colorbar\":{\"outlinewidth\":0,\"ticks\":\"\"}},\"colorscale\":{\"diverging\":[[0,\"#8e0152\"],[0.1,\"#c51b7d\"],[0.2,\"#de77ae\"],[0.3,\"#f1b6da\"],[0.4,\"#fde0ef\"],[0.5,\"#f7f7f7\"],[0.6,\"#e6f5d0\"],[0.7,\"#b8e186\"],[0.8,\"#7fbc41\"],[0.9,\"#4d9221\"],[1,\"#276419\"]],\"sequential\":[[0.0,\"#0d0887\"],[0.1111111111111111,\"#46039f\"],[0.2222222222222222,\"#7201a8\"],[0.3333333333333333,\"#9c179e\"],[0.4444444444444444,\"#bd3786\"],[0.5555555555555556,\"#d8576b\"],[0.6666666666666666,\"#ed7953\"],[0.7777777777777778,\"#fb9f3a\"],[0.8888888888888888,\"#fdca26\"],[1.0,\"#f0f921\"]],\"sequentialminus\":[[0.0,\"#0d0887\"],[0.1111111111111111,\"#46039f\"],[0.2222222222222222,\"#7201a8\"],[0.3333333333333333,\"#9c179e\"],[0.4444444444444444,\"#bd3786\"],[0.5555555555555556,\"#d8576b\"],[0.6666666666666666,\"#ed7953\"],[0.7777777777777778,\"#fb9f3a\"],[0.8888888888888888,\"#fdca26\"],[1.0,\"#f0f921\"]]},\"colorway\":[\"#636efa\",\"#EF553B\",\"#00cc96\",\"#ab63fa\",\"#FFA15A\",\"#19d3f3\",\"#FF6692\",\"#B6E880\",\"#FF97FF\",\"#FECB52\"],\"font\":{\"color\":\"#2a3f5f\"},\"geo\":{\"bgcolor\":\"white\",\"lakecolor\":\"white\",\"landcolor\":\"#E5ECF6\",\"showlakes\":true,\"showland\":true,\"subunitcolor\":\"white\"},\"hoverlabel\":{\"align\":\"left\"},\"hovermode\":\"closest\",\"mapbox\":{\"style\":\"light\"},\"paper_bgcolor\":\"white\",\"plot_bgcolor\":\"#E5ECF6\",\"polar\":{\"angularaxis\":{\"gridcolor\":\"white\",\"linecolor\":\"white\",\"ticks\":\"\"},\"bgcolor\":\"#E5ECF6\",\"radialaxis\":{\"gridcolor\":\"white\",\"linecolor\":\"white\",\"ticks\":\"\"}},\"scene\":{\"xaxis\":{\"backgroundcolor\":\"#E5ECF6\",\"gridcolor\":\"white\",\"gridwidth\":2,\"linecolor\":\"white\",\"showbackground\":true,\"ticks\":\"\",\"zerolinecolor\":\"white\"},\"yaxis\":{\"backgroundcolor\":\"#E5ECF6\",\"gridcolor\":\"white\",\"gridwidth\":2,\"linecolor\":\"white\",\"showbackground\":true,\"ticks\":\"\",\"zerolinecolor\":\"white\"},\"zaxis\":{\"backgroundcolor\":\"#E5ECF6\",\"gridcolor\":\"white\",\"gridwidth\":2,\"linecolor\":\"white\",\"showbackground\":true,\"ticks\":\"\",\"zerolinecolor\":\"white\"}},\"shapedefaults\":{\"line\":{\"color\":\"#2a3f5f\"}},\"ternary\":{\"aaxis\":{\"gridcolor\":\"white\",\"linecolor\":\"white\",\"ticks\":\"\"},\"baxis\":{\"gridcolor\":\"white\",\"linecolor\":\"white\",\"ticks\":\"\"},\"bgcolor\":\"#E5ECF6\",\"caxis\":{\"gridcolor\":\"white\",\"linecolor\":\"white\",\"ticks\":\"\"}},\"title\":{\"x\":0.05},\"xaxis\":{\"automargin\":true,\"gridcolor\":\"white\",\"linecolor\":\"white\",\"ticks\":\"\",\"title\":{\"standoff\":15},\"zerolinecolor\":\"white\",\"zerolinewidth\":2},\"yaxis\":{\"automargin\":true,\"gridcolor\":\"white\",\"linecolor\":\"white\",\"ticks\":\"\",\"title\":{\"standoff\":15},\"zerolinecolor\":\"white\",\"zerolinewidth\":2}}},\"xaxis\":{\"anchor\":\"y\",\"domain\":[0.0,1.0],\"title\":{\"text\":\"value\"}},\"yaxis\":{\"anchor\":\"x\",\"domain\":[0.0,1.0],\"title\":{\"text\":\"count\"}},\"legend\":{\"title\":{\"text\":\"variable\"},\"tracegroupgap\":0},\"title\":{\"text\":\"Sentiment Analysis Distribution for Low Rating Dogs\"},\"barmode\":\"relative\"},                        {\"responsive\": true}                    ).then(function(){\n",
       "                            \n",
       "var gd = document.getElementById('00135ae4-8ff1-437e-9e4d-965bac49e5ad');\n",
       "var x = new MutationObserver(function (mutations, observer) {{\n",
       "        var display = window.getComputedStyle(gd).display;\n",
       "        if (!display || display === 'none') {{\n",
       "            console.log([gd, 'removed!']);\n",
       "            Plotly.purge(gd);\n",
       "            observer.disconnect();\n",
       "        }}\n",
       "}});\n",
       "\n",
       "// Listen for the removal of the full notebook cells\n",
       "var notebookContainer = gd.closest('#notebook-container');\n",
       "if (notebookContainer) {{\n",
       "    x.observe(notebookContainer, {childList: true});\n",
       "}}\n",
       "\n",
       "// Listen for the clearing of the current output cell\n",
       "var outputEl = gd.closest('.output');\n",
       "if (outputEl) {{\n",
       "    x.observe(outputEl, {childList: true});\n",
       "}}\n",
       "\n",
       "                        })                };                });            </script>        </div>"
      ]
     },
     "metadata": {},
     "output_type": "display_data"
    }
   ],
   "source": [
    "fig = px.histogram(df1, x=['neu','pos','neg'],title=\"Sentiment Analysis Distribution for Low Rating Dogs\")\n",
    "fig.show()"
   ]
  },
  {
   "cell_type": "code",
   "execution_count": null,
   "id": "6719d103",
   "metadata": {},
   "outputs": [],
   "source": []
  },
  {
   "cell_type": "code",
   "execution_count": 111,
   "id": "bbebc9e7",
   "metadata": {},
   "outputs": [],
   "source": [
    "def word_processing(tag) : \n",
    "    b = twitter_archive.loc[twitter_archive['rating_bucket'] ==tag, 'text'].tolist()\n",
    "    b1 = ' '.join(b)\n",
    "    b1 = re.sub(r\"https://\\S+\",\"\",b1)\n",
    "    b1 = re.sub(r\"\\d+/\\d+\",\"\",b1)\n",
    "    b1 = re.sub(r\"RT\",'',b1)\n",
    "    b1 = re.sub(r\"^[@#]\\S+\",'', b1) # removing hashtag and at \n",
    "    wordcloud2 = WordCloud().generate(b1)\n",
    "    return wordcloud2 \n"
   ]
  },
  {
   "cell_type": "code",
   "execution_count": 112,
   "id": "01986a67",
   "metadata": {},
   "outputs": [
    {
     "data": {
      "image/png": "[encoded data removed]",
      "text/plain": [
       "<Figure size 432x288 with 1 Axes>"
      ]
     },
     "metadata": {
      "needs_background": "light"
     },
     "output_type": "display_data"
    }
   ],
   "source": [
    "plt.imshow(word_processing('okay'), interpolation='bilinear')\n",
    "plt.axis(\"off\")\n",
    "plt.show()"
   ]
  },
  {
   "cell_type": "code",
   "execution_count": 113,
   "id": "6fccce02",
   "metadata": {},
   "outputs": [
    {
     "data": {
      "image/png": "[encoded data removed]",
      "text/plain": [
       "<Figure size 432x288 with 1 Axes>"
      ]
     },
     "metadata": {
      "needs_background": "light"
     },
     "output_type": "display_data"
    }
   ],
   "source": [
    "plt.imshow(word_processing('cute'), interpolation='bilinear')\n",
    "plt.axis(\"off\")\n",
    "plt.show()"
   ]
  },
  {
   "cell_type": "code",
   "execution_count": 114,
   "id": "c4f94d81",
   "metadata": {},
   "outputs": [
    {
     "data": {
      "image/png": "[encoded data removed]",
      "text/plain": [
       "<Figure size 432x288 with 1 Axes>"
      ]
     },
     "metadata": {
      "needs_background": "light"
     },
     "output_type": "display_data"
    }
   ],
   "source": [
    "plt.imshow(word_processing('cuteness_overflow'), interpolation='bilinear')\n",
    "plt.axis(\"off\")\n",
    "plt.show()"
   ]
  }
 ],
 "metadata": {
  "kernelspec": {
   "display_name": "Python 3",
   "language": "python",
   "name": "python3"
  },
  "language_info": {
   "codemirror_mode": {
    "name": "ipython",
    "version": 3
   },
   "file_extension": ".py",
   "mimetype": "text/x-python",
   "name": "python",
   "nbconvert_exporter": "python",
   "pygments_lexer": "ipython3",
   "version": "3.8.5"
  }
 },
 "nbformat": 4,
 "nbformat_minor": 5
}
