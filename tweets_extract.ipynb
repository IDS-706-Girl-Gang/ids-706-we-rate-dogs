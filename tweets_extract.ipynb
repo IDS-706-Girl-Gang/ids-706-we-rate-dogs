{
 "cells": [
  {
   "cell_type": "code",
   "execution_count": 1,
   "id": "610d7aae",
   "metadata": {},
   "outputs": [
    {
     "data": {
      "text/plain": [
       "True"
      ]
     },
     "execution_count": 1,
     "metadata": {},
     "output_type": "execute_result"
    }
   ],
   "source": [
    "import pandas as pd\n",
    "import numpy as np\n",
    "import tweepy\n",
    "import requests\n",
    "import os\n",
    "import json\n",
    "import re\n",
    "import time\n",
    "from dotenv import load_dotenv\n",
    "\n",
    "load_dotenv()"
   ]
  },
  {
   "cell_type": "code",
   "execution_count": 2,
   "id": "1a762dbe",
   "metadata": {},
   "outputs": [],
   "source": [
    "#get access token and consumer tokens\n",
    "consumer_key = os.getenv('TWITTER_CONSUMER_KEY', \"consumer_key\")\n",
    "consumer_secret = os.getenv('TWITTER_CONSUMER_SECRET', \"consumer_secret\")\n",
    "access_token = os.getenv('TWITTER_ACCESS_TOKEN', \"access_token\")\n",
    "access_token_secret = os.getenv('TWITTER_ACCESS_TOKEN_SECRET', \"access_token_secret\")"
   ]
  },
  {
   "cell_type": "code",
   "execution_count": 3,
   "id": "8eb1cd44",
   "metadata": {},
   "outputs": [],
   "source": [
    "# create an API object that we can use to gather Twitter data.\n",
    "auth = tweepy.OAuthHandler(consumer_key, consumer_secret)\n",
    "auth.set_access_token(access_token, access_token_secret)\n",
    "\n",
    "api = tweepy.API(auth, wait_on_rate_limit=True)"
   ]
  },
  {
   "cell_type": "code",
   "execution_count": 4,
   "id": "08ead8f0",
   "metadata": {},
   "outputs": [],
   "source": [
    "tweets = []\n",
    "count = 0"
   ]
  },
  {
   "cell_type": "code",
   "execution_count": 8,
   "id": "6c191fa7",
   "metadata": {},
   "outputs": [
    {
     "ename": "TypeError",
     "evalue": "'Cursor' object is not iterable",
     "output_type": "error",
     "traceback": [
      "\u001b[0;31m---------------------------------------------------------------------------\u001b[0m",
      "\u001b[0;31mTypeError\u001b[0m                                 Traceback (most recent call last)",
      "\u001b[0;32m/var/folders/x2/cf7gswy14k19q5f797d38d6h0000gn/T/ipykernel_32363/4092298076.py\u001b[0m in \u001b[0;36m<module>\u001b[0;34m\u001b[0m\n\u001b[0;32m----> 1\u001b[0;31m \u001b[0;32mfor\u001b[0m \u001b[0mtweet\u001b[0m \u001b[0;32min\u001b[0m \u001b[0mtweepy\u001b[0m\u001b[0;34m.\u001b[0m\u001b[0mCursor\u001b[0m\u001b[0;34m(\u001b[0m\u001b[0mapi\u001b[0m\u001b[0;34m.\u001b[0m\u001b[0msearch_30_day\u001b[0m\u001b[0;34m,\u001b[0m \u001b[0mq\u001b[0m\u001b[0;34m=\u001b[0m\u001b[0;34m\"@dog_rates\"\u001b[0m\u001b[0;34m,\u001b[0m \u001b[0mmaxResults\u001b[0m\u001b[0;34m=\u001b[0m\u001b[0;36m500\u001b[0m\u001b[0;34m,\u001b[0m \u001b[0mfromDate\u001b[0m\u001b[0;34m=\u001b[0m\u001b[0;34m'2021-11-07'\u001b[0m\u001b[0;34m,\u001b[0m \u001b[0mtoDate\u001b[0m\u001b[0;34m=\u001b[0m\u001b[0;34m'2021-11-09'\u001b[0m\u001b[0;34m)\u001b[0m\u001b[0;34m:\u001b[0m\u001b[0;34m\u001b[0m\u001b[0;34m\u001b[0m\u001b[0m\n\u001b[0m\u001b[1;32m      2\u001b[0m     \u001b[0mprint\u001b[0m\u001b[0;34m(\u001b[0m\u001b[0mcount\u001b[0m\u001b[0;34m)\u001b[0m\u001b[0;34m\u001b[0m\u001b[0;34m\u001b[0m\u001b[0m\n\u001b[1;32m      3\u001b[0m     \u001b[0mcount\u001b[0m \u001b[0;34m+=\u001b[0m \u001b[0;36m1\u001b[0m\u001b[0;34m\u001b[0m\u001b[0;34m\u001b[0m\u001b[0m\n\u001b[1;32m      4\u001b[0m     \u001b[0;32mtry\u001b[0m\u001b[0;34m:\u001b[0m\u001b[0;34m\u001b[0m\u001b[0;34m\u001b[0m\u001b[0m\n\u001b[1;32m      5\u001b[0m         \u001b[0mdata\u001b[0m \u001b[0;34m=\u001b[0m \u001b[0;34m[\u001b[0m\u001b[0mtweet\u001b[0m\u001b[0;34m.\u001b[0m\u001b[0mcreated_at\u001b[0m\u001b[0;34m,\u001b[0m \u001b[0mtweet\u001b[0m\u001b[0;34m.\u001b[0m\u001b[0mid\u001b[0m\u001b[0;34m,\u001b[0m \u001b[0mtweet\u001b[0m\u001b[0;34m.\u001b[0m\u001b[0mtext\u001b[0m\u001b[0;34m,\u001b[0m \u001b[0mtweet\u001b[0m\u001b[0;34m.\u001b[0m\u001b[0muser\u001b[0m\u001b[0;34m.\u001b[0m\u001b[0m_json\u001b[0m\u001b[0;34m[\u001b[0m\u001b[0;34m'screen_name'\u001b[0m\u001b[0;34m]\u001b[0m\u001b[0;34m,\u001b[0m \u001b[0mtweet\u001b[0m\u001b[0;34m.\u001b[0m\u001b[0muser\u001b[0m\u001b[0;34m.\u001b[0m\u001b[0m_json\u001b[0m\u001b[0;34m[\u001b[0m\u001b[0;34m'name'\u001b[0m\u001b[0;34m]\u001b[0m\u001b[0;34m,\u001b[0m \u001b[0mtweet\u001b[0m\u001b[0;34m.\u001b[0m\u001b[0muser\u001b[0m\u001b[0;34m.\u001b[0m\u001b[0m_json\u001b[0m\u001b[0;34m[\u001b[0m\u001b[0;34m'created_at'\u001b[0m\u001b[0;34m]\u001b[0m\u001b[0;34m,\u001b[0m \u001b[0mtweet\u001b[0m\u001b[0;34m.\u001b[0m\u001b[0mentities\u001b[0m\u001b[0;34m[\u001b[0m\u001b[0;34m'urls'\u001b[0m\u001b[0;34m]\u001b[0m\u001b[0;34m]\u001b[0m\u001b[0;34m\u001b[0m\u001b[0;34m\u001b[0m\u001b[0m\n",
      "\u001b[0;31mTypeError\u001b[0m: 'Cursor' object is not iterable"
     ]
    }
   ],
   "source": [
    "for tweet in tweepy.Cursor(api.search_30_day, q=\"@dog_rates\", maxResults=500, fromDate='2021-11-07', toDate='2021-11-09'):\n",
    "    print(count)\n",
    "    count += 1\n",
    "    try: \n",
    "        data = [tweet.created_at, tweet.id, tweet.text, tweet.user._json['screen_name'], tweet.user._json['name'], tweet.user._json['created_at'], tweet.entities['urls']]\n",
    "        data = tuple(data)\n",
    "        tweets.append(data)\n",
    "\n",
    "    except tweepy.TweepError as e:\n",
    "        print(e.reason)\n",
    "        continue\n",
    "\n",
    "    except StopIteration:\n",
    "        break"
   ]
  },
  {
   "cell_type": "code",
   "execution_count": 6,
   "id": "a70fc3d8",
   "metadata": {},
   "outputs": [],
   "source": [
    "df = pd.DataFrame(tweets, columns = ['created_at','tweet_id', 'tweet_text', 'screen_name', 'name', 'account_creation_date', 'urls'])"
   ]
  },
  {
   "cell_type": "code",
   "execution_count": 7,
   "id": "26714fb8",
   "metadata": {},
   "outputs": [
    {
     "data": {
      "text/html": [
       "<div>\n",
       "<style scoped>\n",
       "    .dataframe tbody tr th:only-of-type {\n",
       "        vertical-align: middle;\n",
       "    }\n",
       "\n",
       "    .dataframe tbody tr th {\n",
       "        vertical-align: top;\n",
       "    }\n",
       "\n",
       "    .dataframe thead th {\n",
       "        text-align: right;\n",
       "    }\n",
       "</style>\n",
       "<table border=\"1\" class=\"dataframe\">\n",
       "  <thead>\n",
       "    <tr style=\"text-align: right;\">\n",
       "      <th></th>\n",
       "      <th>created_at</th>\n",
       "      <th>tweet_id</th>\n",
       "      <th>tweet_text</th>\n",
       "      <th>screen_name</th>\n",
       "      <th>name</th>\n",
       "      <th>account_creation_date</th>\n",
       "      <th>urls</th>\n",
       "    </tr>\n",
       "  </thead>\n",
       "  <tbody>\n",
       "    <tr>\n",
       "      <th>0</th>\n",
       "      <td>2021-11-08 23:44:16+00:00</td>\n",
       "      <td>1457856527168122880</td>\n",
       "      <td>RT @dog_rates: This is Sadie and Niki. They ha...</td>\n",
       "      <td>AristideBanceVU</td>\n",
       "      <td>Üstat Höca Vanü Ega</td>\n",
       "      <td>Sun Sep 06 15:26:51 +0000 2009</td>\n",
       "      <td>[]</td>\n",
       "    </tr>\n",
       "    <tr>\n",
       "      <th>1</th>\n",
       "      <td>2021-11-08 23:40:49+00:00</td>\n",
       "      <td>1457855658984976390</td>\n",
       "      <td>@BillyHeathFOX5 @dog_rates Oh my word, what a ...</td>\n",
       "      <td>Gen_K_Hird</td>\n",
       "      <td>Kim Pallante</td>\n",
       "      <td>Sun May 28 16:23:02 +0000 2017</td>\n",
       "      <td>[]</td>\n",
       "    </tr>\n",
       "    <tr>\n",
       "      <th>2</th>\n",
       "      <td>2021-11-08 23:38:25+00:00</td>\n",
       "      <td>1457855054736728065</td>\n",
       "      <td>Name a better duo… ⁦@dog_rates⁩ https://t.co/6...</td>\n",
       "      <td>daniellemu112</td>\n",
       "      <td>Danielle Uhlhorn</td>\n",
       "      <td>Tue Jul 03 22:18:15 +0000 2012</td>\n",
       "      <td>[]</td>\n",
       "    </tr>\n",
       "    <tr>\n",
       "      <th>3</th>\n",
       "      <td>2021-11-08 23:37:09+00:00</td>\n",
       "      <td>1457854738066812942</td>\n",
       "      <td>@HeckinGoodDogs Doesn't have a smaller dog but...</td>\n",
       "      <td>holly_atkins</td>\n",
       "      <td>𝐻♡𝓁𝓁𝓎 𝒜𝓉𝓀𝒾𝓃𝓈 🐧</td>\n",
       "      <td>Fri Oct 24 18:17:01 +0000 2008</td>\n",
       "      <td>[]</td>\n",
       "    </tr>\n",
       "    <tr>\n",
       "      <th>4</th>\n",
       "      <td>2021-11-08 23:36:45+00:00</td>\n",
       "      <td>1457854635289595905</td>\n",
       "      <td>RT @dog_rates: This is Chad. He’s a very good ...</td>\n",
       "      <td>kaylaburgoa</td>\n",
       "      <td>kay bella</td>\n",
       "      <td>Sat Mar 18 21:34:35 +0000 2017</td>\n",
       "      <td>[]</td>\n",
       "    </tr>\n",
       "  </tbody>\n",
       "</table>\n",
       "</div>"
      ],
      "text/plain": [
       "                 created_at             tweet_id  \\\n",
       "0 2021-11-08 23:44:16+00:00  1457856527168122880   \n",
       "1 2021-11-08 23:40:49+00:00  1457855658984976390   \n",
       "2 2021-11-08 23:38:25+00:00  1457855054736728065   \n",
       "3 2021-11-08 23:37:09+00:00  1457854738066812942   \n",
       "4 2021-11-08 23:36:45+00:00  1457854635289595905   \n",
       "\n",
       "                                          tweet_text      screen_name  \\\n",
       "0  RT @dog_rates: This is Sadie and Niki. They ha...  AristideBanceVU   \n",
       "1  @BillyHeathFOX5 @dog_rates Oh my word, what a ...       Gen_K_Hird   \n",
       "2  Name a better duo… ⁦@dog_rates⁩ https://t.co/6...    daniellemu112   \n",
       "3  @HeckinGoodDogs Doesn't have a smaller dog but...     holly_atkins   \n",
       "4  RT @dog_rates: This is Chad. He’s a very good ...      kaylaburgoa   \n",
       "\n",
       "                  name           account_creation_date urls  \n",
       "0  Üstat Höca Vanü Ega  Sun Sep 06 15:26:51 +0000 2009   []  \n",
       "1         Kim Pallante  Sun May 28 16:23:02 +0000 2017   []  \n",
       "2     Danielle Uhlhorn  Tue Jul 03 22:18:15 +0000 2012   []  \n",
       "3       𝐻♡𝓁𝓁𝓎 𝒜𝓉𝓀𝒾𝓃𝓈 🐧  Fri Oct 24 18:17:01 +0000 2008   []  \n",
       "4            kay bella  Sat Mar 18 21:34:35 +0000 2017   []  "
      ]
     },
     "execution_count": 7,
     "metadata": {},
     "output_type": "execute_result"
    }
   ],
   "source": [
    "df.head()"
   ]
  }
 ],
 "metadata": {
  "kernelspec": {
   "display_name": "Python 3 (ipykernel)",
   "language": "python",
   "name": "python3"
  },
  "language_info": {
   "codemirror_mode": {
    "name": "ipython",
    "version": 3
   },
   "file_extension": ".py",
   "mimetype": "text/x-python",
   "name": "python",
   "nbconvert_exporter": "python",
   "pygments_lexer": "ipython3",
   "version": "3.9.7"
  }
 },
 "nbformat": 4,
 "nbformat_minor": 5
}
